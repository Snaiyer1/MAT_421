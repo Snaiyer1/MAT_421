{
  "nbformat": 4,
  "nbformat_minor": 0,
  "metadata": {
    "colab": {
      "provenance": [],
      "authorship_tag": "ABX9TyMTus0jr3MXAwwSistavkuJ",
      "include_colab_link": true
    },
    "kernelspec": {
      "name": "python3",
      "display_name": "Python 3"
    },
    "language_info": {
      "name": "python"
    }
  },
  "cells": [
    {
      "cell_type": "markdown",
      "metadata": {
        "id": "view-in-github",
        "colab_type": "text"
      },
      "source": [
        "<a href=\"https://colab.research.google.com/github/Snaiyer1/MAT_421/blob/main/Module_A.ipynb\" target=\"_parent\"><img src=\"https://colab.research.google.com/assets/colab-badge.svg\" alt=\"Open In Colab\"/></a>"
      ]
    },
    {
      "cell_type": "markdown",
      "source": [
        "**Base-N and Binary**\n",
        "\n",
        "The decimal system is a representation of digits from 0 to 9, and each digit is a coefficient for the power of 10 (base 10).\n",
        "\n",
        "Here is an example of decimal exapansion:\n"
      ],
      "metadata": {
        "id": "9n2N_zznGOTr"
      }
    },
    {
      "cell_type": "code",
      "source": [
        "152.4 == 1*(10**2) + 5*(10**1) + 2*(10**0) + 4*(10**-1)"
      ],
      "metadata": {
        "colab": {
          "base_uri": "https://localhost:8080/"
        },
        "id": "mQmQt9iXP1R-",
        "outputId": "5d6de3b5-5a9e-47cc-f3d8-067f6d019f35"
      },
      "execution_count": null,
      "outputs": [
        {
          "output_type": "execute_result",
          "data": {
            "text/plain": [
              "True"
            ]
          },
          "metadata": {},
          "execution_count": 3
        }
      ]
    },
    {
      "cell_type": "markdown",
      "source": [
        "There are also other bases, such as base 3.\n",
        "\n",
        "Here's another example with 122 in base 3, which is equivalent to 17(base 10)."
      ],
      "metadata": {
        "id": "4kLvnAXNWKrQ"
      }
    },
    {
      "cell_type": "code",
      "source": [
        "1*(3**2) + 2*(3**1) + 2*(3**0) == 17"
      ],
      "metadata": {
        "colab": {
          "base_uri": "https://localhost:8080/"
        },
        "id": "XSgSdC-xZIVh",
        "outputId": "e001532e-4d16-44b9-84a5-c7187b5fe62a"
      },
      "execution_count": null,
      "outputs": [
        {
          "output_type": "execute_result",
          "data": {
            "text/plain": [
              "True"
            ]
          },
          "metadata": {},
          "execution_count": 5
        }
      ]
    },
    {
      "cell_type": "markdown",
      "source": [
        "For computers, binary numbers (base 2) are an important representation of numbers. In binary, there are only 2 digit 0 and 1 where each digit is a coefficient for the power of 2. Binary digits are also known as bits and operate just as other numbers.\n",
        "\n",
        "Lets conver 10 (base 10) into binary:"
      ],
      "metadata": {
        "id": "DI5n8ayeaBtN"
      }
    },
    {
      "cell_type": "code",
      "source": [
        "10 == 1*(2**3) + 0*(2**2) + 1*(2**1) + 0*(2**0) == 8 + 0 + 2 + 0"
      ],
      "metadata": {
        "colab": {
          "base_uri": "https://localhost:8080/"
        },
        "id": "1iRJUn6PbDwj",
        "outputId": "c38f6207-6bdd-4694-bf8e-10b3e9cb86a8"
      },
      "execution_count": null,
      "outputs": [
        {
          "output_type": "execute_result",
          "data": {
            "text/plain": [
              "True"
            ]
          },
          "metadata": {},
          "execution_count": 11
        }
      ]
    },
    {
      "cell_type": "markdown",
      "source": [
        "So the binary represetation of 10 would be 1010.\n",
        "\n",
        "Since binary numbers have the same properties as all other real numbers, we can perform operations such as addition, multiplication, etc.\n",
        "\n",
        "By using AND, OR, and NOT operaters, computers can perform arithmetic operations at a high speed.\n",
        "\n",
        "Here is an example of binary addition and multiplication:"
      ],
      "metadata": {
        "id": "i9OH6eV6dflD"
      }
    },
    {
      "cell_type": "code",
      "source": [
        "35 == 1*(2**5) + 0*(2**4) + 0*(2**3) + 0*(2**2) + 1*(2**1) + 1*(2**0)"
      ],
      "metadata": {
        "colab": {
          "base_uri": "https://localhost:8080/"
        },
        "id": "2vUR2dH-d9I2",
        "outputId": "70af702f-c5db-4763-c1fd-bdd96433c9e1"
      },
      "execution_count": null,
      "outputs": [
        {
          "output_type": "execute_result",
          "data": {
            "text/plain": [
              "True"
            ]
          },
          "metadata": {},
          "execution_count": 20
        }
      ]
    },
    {
      "cell_type": "code",
      "source": [
        "15 == 1*(2**3) + 1*(2**2) + 1*(2**1) + 1*(2**0)"
      ],
      "metadata": {
        "colab": {
          "base_uri": "https://localhost:8080/"
        },
        "id": "4nsTCxVKfzuy",
        "outputId": "251fe2c3-bce3-4bbe-bdb8-57192400f15f"
      },
      "execution_count": null,
      "outputs": [
        {
          "output_type": "execute_result",
          "data": {
            "text/plain": [
              "True"
            ]
          },
          "metadata": {},
          "execution_count": 19
        }
      ]
    },
    {
      "cell_type": "code",
      "source": [
        "35*15"
      ],
      "metadata": {
        "colab": {
          "base_uri": "https://localhost:8080/"
        },
        "id": "HRrBgNL_f1nk",
        "outputId": "f0d655d9-5f5c-4789-8f71-721be0196a08"
      },
      "execution_count": null,
      "outputs": [
        {
          "output_type": "execute_result",
          "data": {
            "text/plain": [
              "525"
            ]
          },
          "metadata": {},
          "execution_count": 21
        }
      ]
    },
    {
      "cell_type": "code",
      "source": [
        "35+15"
      ],
      "metadata": {
        "colab": {
          "base_uri": "https://localhost:8080/"
        },
        "id": "1xNrewCNf4kr",
        "outputId": "6c7457f2-3d28-415d-b455-648a33df8c03"
      },
      "execution_count": null,
      "outputs": [
        {
          "output_type": "execute_result",
          "data": {
            "text/plain": [
              "50"
            ]
          },
          "metadata": {},
          "execution_count": 22
        }
      ]
    },
    {
      "cell_type": "code",
      "source": [
        "525 == 1*(2**9) + 0*(2**8) + 0*(2**7) + 0*(2**6) + 0*(2**5) + 0*(2**4) + 1*(2**3) + 1*(2**2) + 0*(2**1) + 1*(2**0)"
      ],
      "metadata": {
        "colab": {
          "base_uri": "https://localhost:8080/"
        },
        "id": "LOIHNHk7f6wM",
        "outputId": "3ae25371-f03f-4cbf-bd0c-819d1c44f1c6"
      },
      "execution_count": null,
      "outputs": [
        {
          "output_type": "execute_result",
          "data": {
            "text/plain": [
              "True"
            ]
          },
          "metadata": {},
          "execution_count": 23
        }
      ]
    },
    {
      "cell_type": "code",
      "source": [
        "50 == 1*(2**5) + 1*(2**4) + 0*(2**3) + 0*(2**2) + 1*(2**1) + 0*(2**0)"
      ],
      "metadata": {
        "colab": {
          "base_uri": "https://localhost:8080/"
        },
        "id": "9cHWC0eTgqXe",
        "outputId": "f45b9049-1aca-4cf8-ed9c-705d9c7b884d"
      },
      "execution_count": null,
      "outputs": [
        {
          "output_type": "execute_result",
          "data": {
            "text/plain": [
              "True"
            ]
          },
          "metadata": {},
          "execution_count": 24
        }
      ]
    },
    {
      "cell_type": "markdown",
      "source": [
        "Computers have a fixed number of bits which can be stored at once. A 32-bit computer, for example, can process 32-digit binary numbers at most."
      ],
      "metadata": {
        "id": "71_GxQxlhNKp"
      }
    },
    {
      "cell_type": "markdown",
      "source": [
        "**Floating Point Numbers**\n",
        "\n",
        "Since the number of bits is fixed, binary representaiton can give an insufficient precision and range of numbers. We can use floating point, or float, numbers to achieve that range of values needed. Instead of the bit being a coefficient with the power of 2 (base 2), floats will allocate bits to the sign indicator, fraction, and exponent.\n",
        "\n",
        "We can get information on floats with the sys package:"
      ],
      "metadata": {
        "id": "-5H_AlhHiZoq"
      }
    },
    {
      "cell_type": "code",
      "source": [
        "import sys\n",
        "sys.float_info"
      ],
      "metadata": {
        "colab": {
          "base_uri": "https://localhost:8080/"
        },
        "id": "XKavfgyIjU2P",
        "outputId": "f1f8b064-1722-40a2-9c92-395c5cf5c421"
      },
      "execution_count": null,
      "outputs": [
        {
          "output_type": "execute_result",
          "data": {
            "text/plain": [
              "sys.float_info(max=1.7976931348623157e+308, max_exp=1024, max_10_exp=308, min=2.2250738585072014e-308, min_exp=-1021, min_10_exp=-307, dig=15, mant_dig=53, epsilon=2.220446049250313e-16, radix=2, rounds=1)"
            ]
          },
          "metadata": {},
          "execution_count": 25
        }
      ]
    },
    {
      "cell_type": "code",
      "source": [
        "print(\"n = (-1)ˢ * 2ᵉ⁻¹⁰²³ * (1 + f)\")"
      ],
      "metadata": {
        "colab": {
          "base_uri": "https://localhost:8080/"
        },
        "id": "_Vxcl0bgj6mN",
        "outputId": "fbfd59bb-f1e6-4306-9917-34dd683535b8"
      },
      "execution_count": null,
      "outputs": [
        {
          "output_type": "stream",
          "name": "stdout",
          "text": [
            "n = (-1)ˢ * 2ᵉ⁻¹⁰²³ * (1 + f)\n"
          ]
        }
      ]
    },
    {
      "cell_type": "markdown",
      "source": [
        "We can represent a float as above.\n",
        "\n",
        "The distance between numbers is called the gap. The gap grows as the number grows and it can be copmuted with the spacing function in numpy:"
      ],
      "metadata": {
        "id": "SHKo5if5k0hq"
      }
    },
    {
      "cell_type": "code",
      "source": [
        "import numpy as np\n",
        "\n",
        "np.spacing(1e9)"
      ],
      "metadata": {
        "colab": {
          "base_uri": "https://localhost:8080/"
        },
        "id": "KONYCRLem2CY",
        "outputId": "58f830e6-68fe-49ca-a6f3-076823faf1e5"
      },
      "execution_count": null,
      "outputs": [
        {
          "output_type": "execute_result",
          "data": {
            "text/plain": [
              "1.1920928955078125e-07"
            ]
          },
          "metadata": {},
          "execution_count": 29
        }
      ]
    },
    {
      "cell_type": "code",
      "source": [
        "1e9 == (1e9 + np.spacing(1e9)/3)"
      ],
      "metadata": {
        "colab": {
          "base_uri": "https://localhost:8080/"
        },
        "id": "synt7LbynAeA",
        "outputId": "27f7d323-6f05-4efb-a60c-86229315dd34"
      },
      "execution_count": null,
      "outputs": [
        {
          "output_type": "execute_result",
          "data": {
            "text/plain": [
              "True"
            ]
          },
          "metadata": {},
          "execution_count": 30
        }
      ]
    },
    {
      "cell_type": "markdown",
      "source": [
        "There are some special cases for floats, such as when e = 0 and e = 2047. These cases are reserved. When e = 0, the leading one in the fraction takes on the value of 0 which results in a subnormal number.\n",
        "\n",
        "The equation for a subnormal number is similar to the original float one above, however instead of -1023, we have -1022.\n",
        "\n",
        "When e = 2047 and f is nonzero, we get an undefined number. If e = 2047 and f = 0 and s = 0, the result is postiive infinity and if s = 1, negative infinity.\n",
        "\n",
        "We can verify the largest and smallest defined numbers below:"
      ],
      "metadata": {
        "id": "0JkIKFspnRaZ"
      }
    },
    {
      "cell_type": "code",
      "source": [
        "largest = (2**(2046-1023))*((1 + sum(0.5**np.arange(1, 53))))\n",
        "largest"
      ],
      "metadata": {
        "colab": {
          "base_uri": "https://localhost:8080/"
        },
        "id": "7acDgIOoozBK",
        "outputId": "27c01ce1-e940-4364-a1e5-47f9ace7f195"
      },
      "execution_count": null,
      "outputs": [
        {
          "output_type": "execute_result",
          "data": {
            "text/plain": [
              "1.7976931348623157e+308"
            ]
          },
          "metadata": {},
          "execution_count": 31
        }
      ]
    },
    {
      "cell_type": "code",
      "source": [
        "sys.float_info.max"
      ],
      "metadata": {
        "colab": {
          "base_uri": "https://localhost:8080/"
        },
        "id": "_YqabcFAo-s2",
        "outputId": "bf54f766-9f97-4c58-a653-efce9743e5fd"
      },
      "execution_count": null,
      "outputs": [
        {
          "output_type": "execute_result",
          "data": {
            "text/plain": [
              "1.7976931348623157e+308"
            ]
          },
          "metadata": {},
          "execution_count": 32
        }
      ]
    },
    {
      "cell_type": "code",
      "source": [
        "smallest = (2**(1-1023))*(1+0)\n",
        "smallest"
      ],
      "metadata": {
        "colab": {
          "base_uri": "https://localhost:8080/"
        },
        "id": "0DXhWqMNpBxV",
        "outputId": "4a6afdb4-0195-4e27-f7f1-8430ddfb1c15"
      },
      "execution_count": null,
      "outputs": [
        {
          "output_type": "execute_result",
          "data": {
            "text/plain": [
              "2.2250738585072014e-308"
            ]
          },
          "metadata": {},
          "execution_count": 33
        }
      ]
    },
    {
      "cell_type": "code",
      "source": [
        "sys.float_info.min"
      ],
      "metadata": {
        "colab": {
          "base_uri": "https://localhost:8080/"
        },
        "id": "fWibJ_AQpI9o",
        "outputId": "47516ef6-3b0f-486a-a1b2-1044171ca7c2"
      },
      "execution_count": null,
      "outputs": [
        {
          "output_type": "execute_result",
          "data": {
            "text/plain": [
              "2.2250738585072014e-308"
            ]
          },
          "metadata": {},
          "execution_count": 34
        }
      ]
    },
    {
      "cell_type": "markdown",
      "source": [
        "Numbers which are larger than the largest floating point number represented can result in overflow. Similarly, numbers than the smallest subnormal number will result in underflow.\n",
        "\n",
        "*   Overflow = inf\n",
        "*   Underflow = 0"
      ],
      "metadata": {
        "id": "vR2i28cIpb52"
      }
    },
    {
      "cell_type": "code",
      "source": [
        "sys.float_info.max + 2 == sys.float_info.max"
      ],
      "metadata": {
        "colab": {
          "base_uri": "https://localhost:8080/"
        },
        "id": "84n6-3AVp0tr",
        "outputId": "653bd667-1970-4a16-d8cd-67cb54c6cd1b"
      },
      "execution_count": null,
      "outputs": [
        {
          "output_type": "execute_result",
          "data": {
            "text/plain": [
              "True"
            ]
          },
          "metadata": {},
          "execution_count": 36
        }
      ]
    },
    {
      "cell_type": "code",
      "source": [
        "sys.float_info.max + sys.float_info.max"
      ],
      "metadata": {
        "colab": {
          "base_uri": "https://localhost:8080/"
        },
        "id": "8_0K9fQ_qITC",
        "outputId": "ea730b67-e184-4162-c253-5b98f3d8a580"
      },
      "execution_count": null,
      "outputs": [
        {
          "output_type": "execute_result",
          "data": {
            "text/plain": [
              "inf"
            ]
          },
          "metadata": {},
          "execution_count": 37
        }
      ]
    },
    {
      "cell_type": "markdown",
      "source": [
        "Adding the max 64 bit float number with 2 will result in the same number as python cannot store the +2 precisely. So the operation is the same as if we were adding 0. However, adding the maximum number to itself results in an overflow.\n",
        "\n",
        "Now let's look at underflow:"
      ],
      "metadata": {
        "id": "sKeYDDI0qN_E"
      }
    },
    {
      "cell_type": "code",
      "source": [
        "2**(-1075)"
      ],
      "metadata": {
        "colab": {
          "base_uri": "https://localhost:8080/"
        },
        "id": "Q4aGZKNaqsch",
        "outputId": "d5665fb8-0db6-4291-a51e-b5b7419abf0e"
      },
      "execution_count": null,
      "outputs": [
        {
          "output_type": "execute_result",
          "data": {
            "text/plain": [
              "0.0"
            ]
          },
          "metadata": {},
          "execution_count": 39
        }
      ]
    },
    {
      "cell_type": "code",
      "source": [
        "2**(-1075) == 0"
      ],
      "metadata": {
        "colab": {
          "base_uri": "https://localhost:8080/"
        },
        "id": "fEbDTvy4qw0w",
        "outputId": "b43ee12a-c11c-4fca-de1e-26a77f01f0d2"
      },
      "execution_count": null,
      "outputs": [
        {
          "output_type": "execute_result",
          "data": {
            "text/plain": [
              "True"
            ]
          },
          "metadata": {},
          "execution_count": 40
        }
      ]
    },
    {
      "cell_type": "code",
      "source": [
        "2**(-1074)"
      ],
      "metadata": {
        "colab": {
          "base_uri": "https://localhost:8080/"
        },
        "id": "rplmEbhcrglp",
        "outputId": "28e5b578-df30-454b-9b74-6e7c8c09e288"
      },
      "execution_count": null,
      "outputs": [
        {
          "output_type": "execute_result",
          "data": {
            "text/plain": [
              "5e-324"
            ]
          },
          "metadata": {},
          "execution_count": 42
        }
      ]
    },
    {
      "cell_type": "markdown",
      "source": [
        "2^-1075 underflows because it's smaller than 2^-1074. Using the rules for subnormal numbers, we know (-1)^0 * 2^(1-1023) * 2^(-52) = 2^(-1074).\n",
        "\n",
        "Using 64 bits binary gives us 2^54 numbers. Binary numbers have constant spacing between each other so you cannot have range and precision. However, IEEE754 can help to overcome such limitations by using high precision at smaller numbers and lower precision for larger numbers."
      ],
      "metadata": {
        "id": "QkS_Utn1rj3l"
      }
    },
    {
      "cell_type": "markdown",
      "source": [
        "**Round-off Errors**\n",
        "\n",
        "The difference between an approximation of a number and it's true value is called a round-off error. Representation errors are the most common form of this. Examples include:\n",
        "\n",
        "*   1/3\n",
        "*  pi\n",
        "\n",
        "We can see errors by floating-point arithmetic here:\n",
        "\n"
      ],
      "metadata": {
        "id": "mCDIGTxqsa_Y"
      }
    },
    {
      "cell_type": "code",
      "source": [
        "3.9 - 3.845 == 0.055"
      ],
      "metadata": {
        "colab": {
          "base_uri": "https://localhost:8080/"
        },
        "id": "uj31FOfvu1Vp",
        "outputId": "4d1f4ed4-1595-4f8e-e24e-c4854594d7fd"
      },
      "execution_count": null,
      "outputs": [
        {
          "output_type": "execute_result",
          "data": {
            "text/plain": [
              "False"
            ]
          },
          "metadata": {},
          "execution_count": 43
        }
      ]
    },
    {
      "cell_type": "code",
      "source": [
        "3.9 - 3.845"
      ],
      "metadata": {
        "colab": {
          "base_uri": "https://localhost:8080/"
        },
        "id": "Ckp7JpIuvAf9",
        "outputId": "c0ff7b37-035b-4bc5-fe99-86da8510174d"
      },
      "execution_count": null,
      "outputs": [
        {
          "output_type": "execute_result",
          "data": {
            "text/plain": [
              "0.054999999999999716"
            ]
          },
          "metadata": {},
          "execution_count": 44
        }
      ]
    },
    {
      "cell_type": "code",
      "source": [
        "3.8 - 3.845"
      ],
      "metadata": {
        "colab": {
          "base_uri": "https://localhost:8080/"
        },
        "id": "dGMJMMWavFLW",
        "outputId": "a9d12249-5c27-4ab4-85b5-22de5c084dcf"
      },
      "execution_count": null,
      "outputs": [
        {
          "output_type": "execute_result",
          "data": {
            "text/plain": [
              "-0.04500000000000037"
            ]
          },
          "metadata": {},
          "execution_count": 45
        }
      ]
    },
    {
      "cell_type": "code",
      "source": [
        "0.1 + 0.2 + 0.3 == 0.6"
      ],
      "metadata": {
        "colab": {
          "base_uri": "https://localhost:8080/"
        },
        "id": "NyghfhAEvJPD",
        "outputId": "934f6c21-7001-4b6b-cada-05a9c156ebb2"
      },
      "execution_count": null,
      "outputs": [
        {
          "output_type": "execute_result",
          "data": {
            "text/plain": [
              "False"
            ]
          },
          "metadata": {},
          "execution_count": 47
        }
      ]
    },
    {
      "cell_type": "code",
      "source": [
        "round(0.1 + 0.2 + 0.3, 5) == round(0.6, 5)"
      ],
      "metadata": {
        "colab": {
          "base_uri": "https://localhost:8080/"
        },
        "id": "q3Xhl5QhvWC2",
        "outputId": "b16782cf-96e2-4ae1-8cfb-332482b90bc6"
      },
      "execution_count": null,
      "outputs": [
        {
          "output_type": "execute_result",
          "data": {
            "text/plain": [
              "True"
            ]
          },
          "metadata": {},
          "execution_count": 48
        }
      ]
    },
    {
      "cell_type": "markdown",
      "source": [
        "When doing a sequence of calculations, if there is an initial round-off error, the errors can accumulate."
      ],
      "metadata": {
        "id": "wQRMRhu3vdc5"
      }
    },
    {
      "cell_type": "code",
      "source": [
        "1 + 1/3 - 1/3"
      ],
      "metadata": {
        "colab": {
          "base_uri": "https://localhost:8080/"
        },
        "id": "X1ZnoYGEvozI",
        "outputId": "7839c9c4-3335-4777-b7e1-c26bcb0d1507"
      },
      "execution_count": null,
      "outputs": [
        {
          "output_type": "execute_result",
          "data": {
            "text/plain": [
              "1.0"
            ]
          },
          "metadata": {},
          "execution_count": 49
        }
      ]
    },
    {
      "cell_type": "code",
      "source": [
        "def add_and_subtract(iterations):\n",
        "  result = 1\n",
        "\n",
        "  for i in range(iterations):\n",
        "    result += 1/3\n",
        "\n",
        "  for i in range(iterations):\n",
        "    result -= 1/3\n",
        "  return result\n",
        "\n",
        "add_and_subtract(100)"
      ],
      "metadata": {
        "colab": {
          "base_uri": "https://localhost:8080/"
        },
        "id": "GrcAytNvvr4l",
        "outputId": "46811baf-531b-4b85-de7c-07ccfded1993"
      },
      "execution_count": null,
      "outputs": [
        {
          "output_type": "execute_result",
          "data": {
            "text/plain": [
              "1.0000000000000002"
            ]
          },
          "metadata": {},
          "execution_count": 50
        }
      ]
    },
    {
      "cell_type": "code",
      "source": [
        "add_and_subtract(1000)"
      ],
      "metadata": {
        "colab": {
          "base_uri": "https://localhost:8080/"
        },
        "id": "kP3wVxzjv-s3",
        "outputId": "028a1c15-867b-44f5-cd74-1f884349223c"
      },
      "execution_count": null,
      "outputs": [
        {
          "output_type": "execute_result",
          "data": {
            "text/plain": [
              "1.0000000000000064"
            ]
          },
          "metadata": {},
          "execution_count": 51
        }
      ]
    },
    {
      "cell_type": "code",
      "source": [
        "add_and_subtract(10000)"
      ],
      "metadata": {
        "colab": {
          "base_uri": "https://localhost:8080/"
        },
        "id": "iN_7SzK3wBhU",
        "outputId": "2043d3e7-2844-43c2-c103-250affa53bce"
      },
      "execution_count": null,
      "outputs": [
        {
          "output_type": "execute_result",
          "data": {
            "text/plain": [
              "1.0000000000001166"
            ]
          },
          "metadata": {},
          "execution_count": 52
        }
      ]
    }
  ]
}