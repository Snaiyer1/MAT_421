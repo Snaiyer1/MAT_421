{
  "nbformat": 4,
  "nbformat_minor": 0,
  "metadata": {
    "colab": {
      "provenance": [],
      "authorship_tag": "ABX9TyMU31+f53py09gnAYEdg0DL",
      "include_colab_link": true
    },
    "kernelspec": {
      "name": "python3",
      "display_name": "Python 3"
    },
    "language_info": {
      "name": "python"
    }
  },
  "cells": [
    {
      "cell_type": "markdown",
      "metadata": {
        "id": "view-in-github",
        "colab_type": "text"
      },
      "source": [
        "<a href=\"https://colab.research.google.com/github/Snaiyer1/MAT_421/blob/main/Module_C.ipynb\" target=\"_parent\"><img src=\"https://colab.research.google.com/assets/colab-badge.svg\" alt=\"Open In Colab\"/></a>"
      ]
    },
    {
      "cell_type": "markdown",
      "source": [
        "The root of a function, f(x), is when the value x is equal to zero - f(x) = 0. If we have the function f(x) = x^2 - 9, the roots are pretty clear: x = 3 and x = -3. However, for functions such as f(x) = cos(x) - x, finding an exact solution for the roots may be difficult. For such cases, we can generate numerical approximations to estimate the roots.\n",
        "\n",
        "Let's find the root of f(x) = cos(x) - x near -2:"
      ],
      "metadata": {
        "id": "3XyOHESslA3w"
      }
    },
    {
      "cell_type": "code",
      "source": [
        "import numpy as np\n",
        "from scipy import optimize\n",
        "\n",
        "f = lambda x: np.cos(x) - x\n",
        "r = optimize.fsolve(f, -2)\n",
        "print(\"r =\", r)\n",
        "\n",
        "# Verify the solution is a root\n",
        "result = f(r)\n",
        "print(\"result=\", result)"
      ],
      "metadata": {
        "colab": {
          "base_uri": "https://localhost:8080/"
        },
        "id": "mdBz2xbYmlot",
        "outputId": "7bce94ec-5cdb-4edf-87d4-3ae95e52784d"
      },
      "execution_count": null,
      "outputs": [
        {
          "output_type": "stream",
          "name": "stdout",
          "text": [
            "r = [0.73908513]\n",
            "result= [0.]\n"
          ]
        }
      ]
    },
    {
      "cell_type": "markdown",
      "source": [
        "f(x) = 1/x has no root:"
      ],
      "metadata": {
        "id": "Ucw-6vwpmvRN"
      }
    },
    {
      "cell_type": "code",
      "source": [
        "f = lambda x: 1/x\n",
        "\n",
        "r, infodict, ier, mesg = optimize.fsolve(f, -2, full_output=True)\n",
        "print(\"r =\", r)\n",
        "\n",
        "result = f(r)\n",
        "print(\"result=\", result)\n",
        "\n",
        "print(mesg)"
      ],
      "metadata": {
        "colab": {
          "base_uri": "https://localhost:8080/"
        },
        "id": "47ElBt25mzWm",
        "outputId": "202e0e51-2a80-421b-b168-ec536ad89c24"
      },
      "execution_count": null,
      "outputs": [
        {
          "output_type": "stream",
          "name": "stdout",
          "text": [
            "r = [-3.52047359e+83]\n",
            "result= [-2.84052692e-84]\n",
            "The number of calls to function has reached maxfev = 400.\n"
          ]
        }
      ]
    },
    {
      "cell_type": "markdown",
      "source": [
        "**Tolerance**\n",
        "\n",
        "Error is the deviation from an expected value, while tolerance is the level of error which is acceptable for an application. A computer program converges to a solution when it has found a solution with an error smaller than the tolerance.\n",
        "\n",
        "In the case of roots, we want to find x such that f(x) is close to 0. Therefore |f(x)| is a possible choice to measure error since the samller it is, the closer we are to a root. We can also measure error with |xi+1 - xi|, where xi is the ith guess of the algorithm for finding a root.\n",
        "\n",
        "Let e = |f(x)| be the measure of error and tol be the acceptable level of error. f(x) = x^2 + tol/2 has no real roots, however, |f(0)| = tol/2 is an acceptable solution.\n",
        "\n",
        "Similarly, let e = |xi+1 - xi|. The function f(x) = 1/x has no real roots, but xi = -tol/4 and xi+1 = tol/4 have an error of e = tol/2 and are an acceptable solution.\n",
        "\n",
        "The use of tolerance and converging must be done carefully and in context of the program using them."
      ],
      "metadata": {
        "id": "Z7OzbE0AnB3D"
      }
    },
    {
      "cell_type": "markdown",
      "source": [
        "**Bisection Method**\n",
        "\n",
        "The Intermediate Value Theorem states that if f(x) is continous between a and b, and f(x) =! f(b), then there must be a c such that a < c < b and f(c) = 0. The bisection method uses the intermediate valu theorem to iteratively find roots. If f(x) is a continous function and a and b are real scalar values such that a < b, then there must be a root in the open interval (a, b). Let m = (b + a)/2, if f(m) = 0 or close, then m is a root. If f(m) > 0 then m is an improvement on the right bound, b, and there is a guranteed root on the open interval (a, m).\n",
        "\n",
        "This function approximates a root r of f, bounded by a and b to within |f((a+b)/2)| < tol:"
      ],
      "metadata": {
        "id": "MCmvMZI2ArUO"
      }
    },
    {
      "cell_type": "code",
      "source": [
        "import numpy as np\n",
        "\n",
        "def my_bisection(f, a, b, tol):\n",
        "    # approximates a root, R, of f bounded\n",
        "    # by a and b to within tolerance\n",
        "    # | f(m) | < tol with m the midpoint\n",
        "    # between a and b Recursive implementation\n",
        "\n",
        "    # check if a and b bound a root\n",
        "    if np.sign(f(a)) == np.sign(f(b)):\n",
        "        raise Exception(\n",
        "         \"The scalars a and b do not bound a root\")\n",
        "\n",
        "    # get midpoint\n",
        "    m = (a + b)/2\n",
        "\n",
        "    if np.abs(f(m)) < tol:\n",
        "        # stopping condition, report m as root\n",
        "        return m\n",
        "    elif np.sign(f(a)) == np.sign(f(m)):\n",
        "        # case where m is an improvement on a.\n",
        "        # Make recursive call with a = m\n",
        "        return my_bisection(f, m, b, tol)\n",
        "    elif np.sign(f(b)) == np.sign(f(m)):\n",
        "        # case where m is an improvement on b.\n",
        "        # Make recursive call with b = m\n",
        "        return my_bisection(f, a, m, tol)"
      ],
      "metadata": {
        "id": "wjx2snpCB-xi"
      },
      "execution_count": null,
      "outputs": []
    },
    {
      "cell_type": "markdown",
      "source": [
        "√2 can be computed as a root for f(x) = x^2 − 2. Starting at a = 0 and b = 2, we can approximate √2 to a tolerance of |f(x)| < 0.1 and |f(x)| < 0.01:"
      ],
      "metadata": {
        "id": "TnGvNPTmCK2x"
      }
    },
    {
      "cell_type": "code",
      "source": [
        "f = lambda x: x**2 - 2\n",
        "\n",
        "r1 = my_bisection(f, 0, 2, 0.1)\n",
        "print(\"r1 =\", r1)\n",
        "r01 = my_bisection(f, 0, 2, 0.01)\n",
        "print(\"r01 =\", r01)\n",
        "\n",
        "print(\"f(r1) =\", f(r1))\n",
        "print(\"f(r01) =\", f(r01))"
      ],
      "metadata": {
        "colab": {
          "base_uri": "https://localhost:8080/"
        },
        "id": "D7DQ6TISCxrZ",
        "outputId": "324fd927-796c-4a86-e1f9-bb99566ebd67"
      },
      "execution_count": null,
      "outputs": [
        {
          "output_type": "stream",
          "name": "stdout",
          "text": [
            "r1 = 1.4375\n",
            "r01 = 1.4140625\n",
            "f(r1) = 0.06640625\n",
            "f(r01) = -0.00042724609375\n"
          ]
        }
      ]
    },
    {
      "cell_type": "markdown",
      "source": [
        "Let's try with a = 2 and b = 4:"
      ],
      "metadata": {
        "id": "lUs2jU7RC0O5"
      }
    },
    {
      "cell_type": "code",
      "source": [
        "my_bisection(f, 2, 4, 0.01)"
      ],
      "metadata": {
        "id": "LMjtufVQC3uV",
        "outputId": "155265a6-31e0-49d5-fe62-e92199b30dfb",
        "colab": {
          "base_uri": "https://localhost:8080/",
          "height": 263
        }
      },
      "execution_count": null,
      "outputs": [
        {
          "output_type": "error",
          "ename": "Exception",
          "evalue": "The scalars a and b do not bound a root",
          "traceback": [
            "\u001b[0;31m---------------------------------------------------------------------------\u001b[0m",
            "\u001b[0;31mException\u001b[0m                                 Traceback (most recent call last)",
            "\u001b[0;32m<ipython-input-6-4158b7a9ae67>\u001b[0m in \u001b[0;36m<cell line: 0>\u001b[0;34m()\u001b[0m\n\u001b[0;32m----> 1\u001b[0;31m \u001b[0mmy_bisection\u001b[0m\u001b[0;34m(\u001b[0m\u001b[0mf\u001b[0m\u001b[0;34m,\u001b[0m \u001b[0;36m2\u001b[0m\u001b[0;34m,\u001b[0m \u001b[0;36m4\u001b[0m\u001b[0;34m,\u001b[0m \u001b[0;36m0.01\u001b[0m\u001b[0;34m)\u001b[0m\u001b[0;34m\u001b[0m\u001b[0;34m\u001b[0m\u001b[0m\n\u001b[0m",
            "\u001b[0;32m<ipython-input-4-36f06123e87c>\u001b[0m in \u001b[0;36mmy_bisection\u001b[0;34m(f, a, b, tol)\u001b[0m\n\u001b[1;32m      9\u001b[0m     \u001b[0;31m# check if a and b bound a root\u001b[0m\u001b[0;34m\u001b[0m\u001b[0;34m\u001b[0m\u001b[0m\n\u001b[1;32m     10\u001b[0m     \u001b[0;32mif\u001b[0m \u001b[0mnp\u001b[0m\u001b[0;34m.\u001b[0m\u001b[0msign\u001b[0m\u001b[0;34m(\u001b[0m\u001b[0mf\u001b[0m\u001b[0;34m(\u001b[0m\u001b[0ma\u001b[0m\u001b[0;34m)\u001b[0m\u001b[0;34m)\u001b[0m \u001b[0;34m==\u001b[0m \u001b[0mnp\u001b[0m\u001b[0;34m.\u001b[0m\u001b[0msign\u001b[0m\u001b[0;34m(\u001b[0m\u001b[0mf\u001b[0m\u001b[0;34m(\u001b[0m\u001b[0mb\u001b[0m\u001b[0;34m)\u001b[0m\u001b[0;34m)\u001b[0m\u001b[0;34m:\u001b[0m\u001b[0;34m\u001b[0m\u001b[0;34m\u001b[0m\u001b[0m\n\u001b[0;32m---> 11\u001b[0;31m         raise Exception(\n\u001b[0m\u001b[1;32m     12\u001b[0m          \"The scalars a and b do not bound a root\")\n\u001b[1;32m     13\u001b[0m \u001b[0;34m\u001b[0m\u001b[0m\n",
            "\u001b[0;31mException\u001b[0m: The scalars a and b do not bound a root"
          ]
        }
      ]
    },
    {
      "cell_type": "markdown",
      "source": [
        "**Newton-Raphson Method**\n",
        "Let f(x) be a smooth and continuous function and x be an unknown root. Assuming x0 is a guess for x, f(x0) will not be a root. Given this, we want to find x1 that's an improvement on x0. If we assume that x0 is close enough to x, then we can improve on it by taking the linear optimization of f(x) around x0 - a line - and find the intersection of the line with the x-axis.\n",
        "\n",
        "Linear approximation:\n",
        "\n",
        "f(x) = f(x0) + f'(x0)(x-x0).\n",
        "\n",
        "Using this, we find x1 such that f(x1) = 0.\n",
        "\n",
        "0 = f(x0) + f'(x0)(x1-x0) -> x1 = x0 - (f(x0))/f'(x0))\n",
        "\n",
        "A Newton Step computes an improved guess, xi, using the previous guess xi-1 and is given by:\n",
        "\n",
        "xi = xi-1 - (g(xi-1)/g'(xi-1))\n",
        "\n",
        "The Newton-Raphson Method of finding roots iterates Newton steps from x0 until the error is less than the tolerance.\n",
        "\n",
        "Let's look at √2, which is the root of f(x) = x^2 - 2. Using x0 = 1.4 and we can use the previous equation to estimate:"
      ],
      "metadata": {
        "id": "afqPEx5n72dR"
      }
    },
    {
      "cell_type": "code",
      "source": [
        "import numpy as np\n",
        "\n",
        "f = lambda x: x**2 - 2\n",
        "f_prime = lambda x: 2*x\n",
        "newton_raphson = 1.4 - (f(1.4))/(f_prime(1.4))\n",
        "\n",
        "print(\"newton_raphson =\", newton_raphson)\n",
        "print(\"sqrt(2) =\", np.sqrt(2))"
      ],
      "metadata": {
        "colab": {
          "base_uri": "https://localhost:8080/"
        },
        "id": "YwNhr3r_B13a",
        "outputId": "e4803b8d-9f5e-4668-e7b4-26e49943d2a1"
      },
      "execution_count": 1,
      "outputs": [
        {
          "output_type": "stream",
          "name": "stdout",
          "text": [
            "newton_raphson = 1.4142857142857144\n",
            "sqrt(2) = 1.4142135623730951\n"
          ]
        }
      ]
    },
    {
      "cell_type": "code",
      "source": [
        "def my_newton(f, df, x0, tol):\n",
        "    # output is an estimation of the root of f\n",
        "    # using the Newton Raphson method\n",
        "    # recursive implementation\n",
        "    if abs(f(x0)) < tol:\n",
        "        return x0\n",
        "    else:\n",
        "        return my_newton(f, df, x0 - f(x0)/df(x0), tol)"
      ],
      "metadata": {
        "id": "E1g_-fhACAwx"
      },
      "execution_count": 2,
      "outputs": []
    },
    {
      "cell_type": "code",
      "source": [
        "estimate = my_newton(f, f_prime, 1.5, 1e-6)\n",
        "print(\"estimate =\", estimate)\n",
        "print(\"sqrt(2) =\", np.sqrt(2))"
      ],
      "metadata": {
        "colab": {
          "base_uri": "https://localhost:8080/"
        },
        "id": "GrfjB7OdCDLh",
        "outputId": "00e77210-0017-461c-e2f1-be7bbdb9ea9f"
      },
      "execution_count": 4,
      "outputs": [
        {
          "output_type": "stream",
          "name": "stdout",
          "text": [
            "estimate = 1.4142135623746899\n",
            "sqrt(2) = 1.4142135623730951\n"
          ]
        }
      ]
    },
    {
      "cell_type": "markdown",
      "source": [
        "If x0 is close to x then it can be proven that the Newton-Raphson method converges to x much faster than the bisection method. Since x is unknown initially, there is no way to know if the initial guess is close enough to the root unless information is known a priori. In addition to the initialization, the Newton-Raphson method has other limitations. If the derivative at a guess is close to 0, then Newton step will be very large and lead far away from the root. Depending on the behavior of the function derivative between x0 and x, the method might converge to a different root.\n",
        "\n",
        "Let's compute a single Newton step for the root of the function f(x) = x^3 + 3x^2 - 2x -5 and x0 = 0.29:"
      ],
      "metadata": {
        "id": "24DWDIAFCFaZ"
      }
    },
    {
      "cell_type": "code",
      "source": [
        "x0 = 0.29\n",
        "x1 = x0-(x0**3+3*x0**2-2*x0-5)/(3*x0**2+6*x0-2)\n",
        "print(\"x1 =\", x1)"
      ],
      "metadata": {
        "colab": {
          "base_uri": "https://localhost:8080/"
        },
        "id": "-Xkp8Wc0EWUU",
        "outputId": "d7c76035-b388-4017-967c-5fb3891fb6d0"
      },
      "execution_count": 5,
      "outputs": [
        {
          "output_type": "stream",
          "name": "stdout",
          "text": [
            "x1 = -688.4516883116648\n"
          ]
        }
      ]
    },
    {
      "cell_type": "markdown",
      "source": [
        "f'(x0) = -0.0077 and the error at x1 is approximately 324880000, which is very large."
      ],
      "metadata": {
        "id": "S28UU_WBEZTO"
      }
    },
    {
      "cell_type": "code",
      "source": [
        "x0 = 0\n",
        "x1 = x0-(x0**3+3*x0**2-2*x0-5)/(3*x0**2+6*x0-2)\n",
        "print(\"x1 =\", x1)"
      ],
      "metadata": {
        "id": "iaf65eUnEpj5"
      },
      "execution_count": null,
      "outputs": []
    },
    {
      "cell_type": "markdown",
      "source": [
        "**Root Finding**\n",
        "\n",
        "We can also compute the root using the f_solve function from scipy.optimize in python. Let's compute the root for f(x) = x^3 - 100x^2 - x + 100:"
      ],
      "metadata": {
        "id": "6JwFiCGYHAf_"
      }
    },
    {
      "cell_type": "code",
      "source": [
        "from scipy.optimize import fsolve\n",
        "f = lambda x: x**3-100*x**2-x+100\n",
        "\n",
        "fsolve(f, [2, 80])"
      ],
      "metadata": {
        "colab": {
          "base_uri": "https://localhost:8080/"
        },
        "id": "PuXfKBvKHMv6",
        "outputId": "c5d6a721-19d5-4cb3-9d01-860817babf39"
      },
      "execution_count": 6,
      "outputs": [
        {
          "output_type": "execute_result",
          "data": {
            "text/plain": [
              "array([  1., 100.])"
            ]
          },
          "metadata": {},
          "execution_count": 6
        }
      ]
    },
    {
      "cell_type": "markdown",
      "source": [
        "We know the funciton has roots x = 1 and x = 100."
      ],
      "metadata": {
        "id": "A5u3sQzpHelR"
      }
    }
  ]
}