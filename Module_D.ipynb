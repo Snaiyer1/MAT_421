{
  "nbformat": 4,
  "nbformat_minor": 0,
  "metadata": {
    "colab": {
      "provenance": [],
      "authorship_tag": "ABX9TyP+EbNlIQMmGxfUidFucNqg",
      "include_colab_link": true
    },
    "kernelspec": {
      "name": "python3",
      "display_name": "Python 3"
    },
    "language_info": {
      "name": "python"
    }
  },
  "cells": [
    {
      "cell_type": "markdown",
      "metadata": {
        "id": "view-in-github",
        "colab_type": "text"
      },
      "source": [
        "<a href=\"https://colab.research.google.com/github/Snaiyer1/MAT_421/blob/main/Module_D.ipynb\" target=\"_parent\"><img src=\"https://colab.research.google.com/assets/colab-badge.svg\" alt=\"Open In Colab\"/></a>"
      ]
    },
    {
      "cell_type": "markdown",
      "source": [
        "Linear algebra is a branch of mathematics dealing with vectors, matrices, and linear transformations. In data science and machine learning, linear algebra is essential for understanding algorithms such as:\n",
        "\n",
        "*  Linear regression\n",
        "*  Principal Component Analysis\n",
        "*  Neural Networks\n",
        "\n",
        "\n",
        "Many data science techniques involve vectors and matrices, eigenvalues, and. Understanding linear algebra helps in optimizing algorithms and improving efficiency when handling large datasets.\n",
        "\n",
        "\n",
        "###**Elements of Linear Algebra**\n",
        "\n",
        "A **linear combination** is one of the most fundamental concepts in linear algebra. When we take vectors and combine them by multiplication with scalars and addition, we create a linear combination.\n",
        "\n",
        "Given vectors v₁, v₂, ..., vₘ and scalars α₁, α₂, ..., αₘ, a linear combination is:\n",
        "\n",
        "  α₁v₁ + α₂v₂ + ... + αₘvₘ\n",
        "\n",
        "Let  \n",
        "𝐰₁ =\n",
        "\\begin{bmatrix} 1 \\\\ 2 \\end{bmatrix}\n",
        "\n",
        "and\n",
        "\n",
        "𝐰₂ =\n",
        "\n",
        "\\begin{bmatrix} 3 \\\\ 4 \\end{bmatrix}\n",
        "A linear combination with α₁ = 2 and α₂ = 3 is:  \n",
        "\n",
        "𝐯 =     \n",
        "\n",
        "2 *\\begin{bmatrix} 1 \\\\ 2 \\end{bmatrix} + 3 *\\begin{bmatrix} 3 \\\\ 4 \\end{bmatrix} = \\begin{bmatrix} 2 \\cdot 1 + 3 \\cdot 3 \\\\ 2 \\cdot 2 + 3 \\cdot 4 \\end{bmatrix} = \\begin{bmatrix} 2 + 9 \\\\ 4 + 12 \\end{bmatrix} = \\begin{bmatrix} 11 \\\\ 16 \\end{bmatrix}"
      ],
      "metadata": {
        "id": "CDSY0G-0ujCW"
      }
    },
    {
      "cell_type": "code",
      "source": [
        "import numpy as np\n",
        "\n",
        "w1 = np.array([1, 2])\n",
        "w2 = np.array([3, 4])\n",
        "\n",
        "alpha1, alpha2 = 2, 3\n",
        "v = alpha1 * w1 + alpha2 * w2\n",
        "print(\"Linear Combination:\", v)"
      ],
      "metadata": {
        "colab": {
          "base_uri": "https://localhost:8080/"
        },
        "id": "iNgkCD0H1-fV",
        "outputId": "58a4625a-f503-417d-d11f-1ceb45c5ab8f"
      },
      "execution_count": null,
      "outputs": [
        {
          "output_type": "stream",
          "name": "stdout",
          "text": [
            "Linear Combination: [11 16]\n"
          ]
        }
      ]
    },
    {
      "cell_type": "markdown",
      "source": [
        "###**Linear Independence**\n",
        "\n",
        "A subset U ⊆ V is a **linear subspace** if it is closed under:\n",
        "\n",
        "- Vector addition: If u₁, u₂ ∈ U, then u₁ + u₂ ∈ U.\n",
        "\n",
        "- Scalar multiplication: If α ∈ $\\mathbb{R}$ and u₁ ∈ U, then αu₁ ∈ U.\n",
        "\n",
        "A linear subspace always contains the zero vector (0).\n",
        "\n",
        "The **span** of a set of vectors {w₁, ..., wₘ} is the set of all their possible linear combinations and forms a linear subspace.\n",
        "\n",
        "Example: Linear Combination & Span\n",
        "\n",
        "Let w₁ = (1, 0) and w₂ = (0, 1) in  $\\mathbb{R}^2$. The span of w₁ and w₂ is all of $\\mathbb{R}^2$ because any vector (x, y) ∈ $\\mathbb{R}^2$ can be written as:\n",
        "\n",
        "Thus, w₁, w₂ span $\\mathbb{R}^2$.\n",
        "\n",
        "\n",
        "A set of vectors is **linearly independent** if none of them can be written as a linear combination of the others.\n",
        "\n",
        "Vectors u1, u2, ..., um are linearly independent if:\n",
        "α1*u1 + α2*u2 + ... + αm*um = 0 ⟹ α1 = α2 = ... = αm = 0\n",
        "\n",
        "Example:\n",
        "Check if u1 = [1, 0] and u2 = [0, 1] are linearly independent."
      ],
      "metadata": {
        "id": "BJ0hV-QguZ93"
      }
    },
    {
      "cell_type": "code",
      "source": [
        "import numpy as np\n",
        "\n",
        "def get_vector(prompt):\n",
        "    while True:\n",
        "        try:\n",
        "            vector_input = input(prompt)\n",
        "            vector = np.array([float(x) for x in vector_input.split()])\n",
        "            return vector\n",
        "        except ValueError:\n",
        "            print(\"Invalid input. Please enter numbers separated by spaces.\")\n",
        "\n",
        "print(\"Enter the components of the vectors separated by spaces.\")\n",
        "u1 = get_vector(\"Enter vector u1: \")\n",
        "u2 = get_vector(\"Enter vector u2: \")\n",
        "\n",
        "matrix = np.column_stack((u1, u2))\n",
        "rank = np.linalg.matrix_rank(matrix)\n",
        "\n",
        "print(\"\\nMatrix:\")\n",
        "print(matrix)\n",
        "print(\"Rank of the matrix:\", rank)\n",
        "\n",
        "if rank == len(matrix[0]):\n",
        "    print(\"Vectors are linearly independent.\")\n",
        "else:\n",
        "    print(\"Vectors are linearly dependent.\")"
      ],
      "metadata": {
        "colab": {
          "base_uri": "https://localhost:8080/"
        },
        "id": "pVn0PPm8850k",
        "outputId": "bc91d5a6-b9a8-4d0f-d1bd-96a2730f8d44"
      },
      "execution_count": null,
      "outputs": [
        {
          "output_type": "stream",
          "name": "stdout",
          "text": [
            "Enter the components of the vectors separated by spaces.\n",
            "Enter vector u1: 2 4\n",
            "Enter vector u2: 1 2\n",
            "\n",
            "Matrix:\n",
            "[[2. 1.]\n",
            " [4. 2.]]\n",
            "Rank of the matrix: 1\n",
            "Vectors are linearly dependent.\n"
          ]
        }
      ]
    },
    {
      "cell_type": "markdown",
      "source": [
        "###**Dimension and Basis**\n",
        "\n",
        "A **basis** is a set of vectors that spans a space and is linearly independent. The **dimension** of a space is the number of vectors in its basis.\n",
        "\n",
        "Example:\n",
        "- Standard basis for R²: \\( \\{(1,0), (0,1)\\} \\)\n",
        "- Any vector in $\\mathbb{R}^2$ can be written as a combination of these two.\n",
        "\n",
        "The **column space** of a matrix is the span of its column vectors. The **rank** of a matrix is the dimension of its column space.\n",
        "\n",
        "Example:\n",
        "\n",
        "A = \\begin{bmatrix} 1 & 2 \\\\ 3 & 4 \\\\ 5 & 6 \\end{bmatrix}\n",
        "\n",
        "- Columns: a₁ = (1,3,5), a₂ = (2,4,6)\n",
        "- Column space = span{a₁, a₂\\}\n",
        "\n"
      ],
      "metadata": {
        "id": "D0I2Yckuvf0C"
      }
    },
    {
      "cell_type": "code",
      "source": [
        "A = np.array([[1, 2], [3, 4], [5, 6]])\n",
        "print(\"Rank of A:\", np.linalg.matrix_rank(A))"
      ],
      "metadata": {
        "colab": {
          "base_uri": "https://localhost:8080/"
        },
        "id": "RKu8JgJmEW0w",
        "outputId": "64f63f7c-1d11-447f-fd1f-452ba44f2822"
      },
      "execution_count": null,
      "outputs": [
        {
          "output_type": "stream",
          "name": "stdout",
          "text": [
            "Rank of A: 2\n"
          ]
        }
      ]
    },
    {
      "cell_type": "markdown",
      "source": [
        "###**Orthoginality**\n",
        "\n",
        "The inner product of two vectors $u, v \\in \\mathbb{R}^n$ is defined as\n",
        "\n",
        "$$\n",
        "\\langle u, v \\rangle = u \\cdot v = \\sum_{i=1}^{n} u_i v_i\n",
        "$$\n",
        "\n",
        "The norm (or length) of a vector $u$ is\n",
        "\n",
        "$$\n",
        "\\| u \\| = \\sqrt{\\langle u, u \\rangle} = \\sqrt{\\sum_{i=1}^{n} u_i^2}\n",
        "$$\n",
        "\n",
        "\n",
        "A list of vectors $\\{ u_1, u_2, \\dots, u_m \\}$ is orthonormal if\n",
        "\n",
        "1. Each vector has a norm of 1\n",
        "   $$\\| u_i \\| = 1, \\quad \\forall i$$\n",
        "2. The vectors are pairwise orthogonal\n",
        "   $$\\langle u_i, u_j \\rangle = 0, \\quad \\forall i \\neq j$$\n",
        "\n",
        "\n",
        "Let $\\{ u_1, u_2, \\dots, u_m \\}$ be an orthonormal list of vectors. Then:\n",
        "\n",
        "\n",
        "The norm of a linear combination is\n",
        "\n",
        "  $$\n",
        "  \\left\\| \\sum_{j=1}^{m} \\alpha_j u_j \\right\\|^2 = \\sum_{j=1}^{m} \\alpha_j^2\n",
        "  $$\n",
        "\n",
        "The vectors $\\{ u_1, u_2, \\dots, u_m \\}$ are linearly independent.\n",
        "\n",
        "#### Proof:\n",
        "Using the definition of the norm and orthonormality\n",
        "\n",
        "$$\n",
        "\\left\\| \\sum_{j=1}^{m} \\alpha_j u_j \\right\\|^2 = \\left\\langle \\sum_{i=1}^{m} \\alpha_i u_i, \\sum_{j=1}^{m} \\alpha_j u_j \\right\\rangle\n",
        "$$\n",
        "\n",
        "Expanding the inner product\n",
        "\n",
        "$$\n",
        "\\sum_{i=1}^{m} \\sum_{j=1}^{m} \\alpha_i \\alpha_j \\langle u_i, u_j \\rangle = \\sum_{i=1}^{m} \\alpha_i^2\n",
        "$$\n",
        "\n",
        "(since $\\langle u_i, u_j \\rangle = 1$ if $i=j$ and $0$ otherwise).\n",
        "\n",
        "Now, suppose $\\sum_{i=1}^{m} \\beta_i u_i = 0$. Taking the norm squared\n",
        "\n",
        "$$\n",
        "\\left\\| \\sum_{i=1}^{m} \\beta_i u_i \\right\\|^2 = \\sum_{i=1}^{m} \\beta_i^2 = 0 \\Rightarrow \\beta_i = 0, \\forall i.\n",
        "$$\n",
        "\n",
        "Thus, the vectors are linearly independent.\n",
        "\n",
        "\n",
        "Let $\\{ q_1, q_2, \\dots, q_m \\}$ be an orthonormal basis for a subspace $U$. For any vector $u \\in U$\n",
        "\n",
        "$$\n",
        " u = \\sum_{j=1}^{m} \\langle u, q_j \\rangle q_j\n",
        "$$\n",
        "\n",
        "#### Proof:\n",
        "Since $\\{ q_1, q_2, \\dots, q_m \\}$ is a basis for $U$, we can write\n",
        "\n",
        "$$\n",
        " u = \\sum_{i=1}^{m} \\alpha_i q_i\n",
        "$$\n",
        "\n",
        "Taking the inner product with $q_j$\n",
        "\n",
        "$$\n",
        "\\langle u, q_j \\rangle = \\left\\langle \\sum_{i=1}^{m} \\alpha_i q_i, q_j \\right\\rangle = \\alpha_j\n",
        "$$\n",
        "\n",
        "Thus,\n",
        "\n",
        "$$\n",
        " u = \\sum_{j=1}^{m} \\langle u, q_j \\rangle q_j.\n",
        "$$\n",
        "\n"
      ],
      "metadata": {
        "id": "KFIGQGACEnI6"
      }
    },
    {
      "cell_type": "markdown",
      "source": [
        "Let $q_1 = \\begin{bmatrix} 1 \\\\ 0 \\end{bmatrix}$ and $q_2 = \\begin{bmatrix} 0 \\\\ 1 \\end{bmatrix}$:"
      ],
      "metadata": {
        "id": "CeQMQoUOIR79"
      }
    },
    {
      "cell_type": "code",
      "source": [
        "import numpy as np\n",
        "\n",
        "q1 = np.array([1, 0])\n",
        "q2 = np.array([0, 1])\n",
        "\n",
        "print(\"Inner product of q1 and q2:\", np.dot(q1, q2))\n",
        "print(\"Norm of q1:\", np.linalg.norm(q1))\n",
        "print(\"Norm of q2:\", np.linalg.norm(q2))"
      ],
      "metadata": {
        "colab": {
          "base_uri": "https://localhost:8080/"
        },
        "id": "9wxH9mDzINbH",
        "outputId": "37767555-31a2-4cb0-a994-f716375be5ff"
      },
      "execution_count": null,
      "outputs": [
        {
          "output_type": "stream",
          "name": "stdout",
          "text": [
            "Inner product of q1 and q2: 0\n",
            "Norm of q1: 1.0\n",
            "Norm of q2: 1.0\n"
          ]
        }
      ]
    },
    {
      "cell_type": "markdown",
      "source": [
        "Given a subspace $U \\subseteq V$ and a vector $v \\notin U$, we can find the vector $v^* \\in U$ that minimizes $\\| v^* - v \\|$.\n",
        "\n",
        "The orthogonal projection of $v$ onto $U$ is:\n",
        "\n",
        "$$\n",
        " P_U v = \\sum_{j=1}^{m} \\langle v, q_j \\rangle q_j\n",
        "$$\n",
        "\n",
        "where $\\{ q_1, q_2, \\dots, q_m \\}$ is an orthonormal basis for $U$.\n",
        "\n",
        "Project $v = \\begin{bmatrix} 1 \\\\ 2 \\\\ 3 \\end{bmatrix}$ onto the subspace spanned by $q_1 = \\begin{bmatrix} 1 \\\\ 0 \\\\ 0 \\end{bmatrix}$ and $q_2 = \\begin{bmatrix} 0 \\\\ 1 \\\\ 0 \\end{bmatrix}$:\n"
      ],
      "metadata": {
        "id": "6g8iYHZ1IbRO"
      }
    },
    {
      "cell_type": "code",
      "source": [
        "v = np.array([1, 2, 3])\n",
        "q1 = np.array([1, 0, 0])\n",
        "q2 = np.array([0, 1, 0])\n",
        "\n",
        "proj_v = np.dot(v, q1) * q1 + np.dot(v, q2) * q2\n",
        "print(\"Projection of v onto U:\", proj_v)"
      ],
      "metadata": {
        "colab": {
          "base_uri": "https://localhost:8080/"
        },
        "id": "Y0crTDvRIeLH",
        "outputId": "ac088325-8c36-45a3-8d67-760935393d04"
      },
      "execution_count": null,
      "outputs": [
        {
          "output_type": "stream",
          "name": "stdout",
          "text": [
            "Projection of v onto U: [1 2 0]\n"
          ]
        }
      ]
    },
    {
      "cell_type": "markdown",
      "source": [
        "### Best Approximation Theorem\n",
        "For any $u \\in U$:\n",
        "\n",
        "$$\n",
        "\\| v - P_U v \\| \\leq \\| v - u \\|\n",
        "$$\n",
        "\n",
        "Equality holds if and only if $u = P_U v$.\n",
        "\n",
        "#### Proof:\n",
        "Using the Pythagorean theorem and orthogonality:\n",
        "\n",
        "$$\n",
        "\\| v - u \\|^2 = \\| v - P_U v + P_U v - u \\|^2 = \\| v - P_U v \\|^2 + \\| P_U v - u \\|^2 \\geq \\| v - P_U v \\|^2.\n",
        "$$\n",
        "\n",
        "Let's find the best approximation of $v = \\begin{bmatrix} 1 \\\\ 2 \\end{bmatrix}$ in the subspace $U = \\text{span}(u_1)$, where $u_1 = \\begin{bmatrix} 1 \\\\ 1 \\end{bmatrix}$:"
      ],
      "metadata": {
        "id": "2R6cg-jzJIZZ"
      }
    },
    {
      "cell_type": "code",
      "source": [
        "v = np.array([1, 2])\n",
        "u1 = np.array([1, 1])\n",
        "\n",
        "q1 = u1 / np.linalg.norm(u1)\n",
        "\n",
        "proj_v = np.dot(v, q1) * q1\n",
        "print(\"Best approximation of v in U:\", proj_v)"
      ],
      "metadata": {
        "colab": {
          "base_uri": "https://localhost:8080/"
        },
        "id": "M4_-KpRiJYYe",
        "outputId": "d96f2c89-b278-4786-9ee2-10349e717df9"
      },
      "execution_count": null,
      "outputs": [
        {
          "output_type": "stream",
          "name": "stdout",
          "text": [
            "Best approximation of v in U: [1.5 1.5]\n"
          ]
        }
      ]
    },
    {
      "cell_type": "markdown",
      "source": [
        "Let's visualize the projection of $v$ onto $U$:"
      ],
      "metadata": {
        "id": "rKgIMZC8JFVm"
      }
    },
    {
      "cell_type": "code",
      "source": [
        "import matplotlib.pyplot as plt\n",
        "\n",
        "v = np.array([1, 2])\n",
        "u1 = np.array([1, 1])\n",
        "q1 = u1 / np.linalg.norm(u1)\n",
        "proj_v = np.dot(v, q1) * q1\n",
        "\n",
        "plt.quiver(0, 0, v[0], v[1], angles='xy', scale_units='xy', scale=1, color='r', label='v')\n",
        "plt.quiver(0, 0, proj_v[0], proj_v[1], angles='xy', scale_units='xy', scale=1, color='b', label='Projection of v')\n",
        "plt.xlim(0, 3)\n",
        "plt.ylim(0, 3)\n",
        "plt.axhline(0, color='black', linewidth=0.5)\n",
        "plt.axvline(0, color='black', linewidth=0.5)\n",
        "plt.grid()\n",
        "plt.legend()\n",
        "plt.show()"
      ],
      "metadata": {
        "colab": {
          "base_uri": "https://localhost:8080/",
          "height": 435
        },
        "id": "vnFCjB-dJtIk",
        "outputId": "6060cfb0-1580-495e-b35b-e98509a2fad3"
      },
      "execution_count": null,
      "outputs": [
        {
          "output_type": "display_data",
          "data": {
            "text/plain": [
              "<Figure size 640x480 with 1 Axes>"
            ],
            "image/png": "[encoded data removed]"
          },
          "metadata": {}
        }
      ]
    },
    {
      "cell_type": "markdown",
      "source": [
        "###**Gram-Schmidt Process**\n",
        "\n",
        "The Gram-Schmidt Process is an algorithm used to convert a set of linearly independent vectors into an orthonormal basis for the subspace they span. It is particularly useful in applications like QR decomposition, solving linear systems, and principal component analysis (PCA).\n",
        "\n",
        "Let $a_1, a_2, \\dots, a_m$ be linearly independent vectors in $\\mathbb{R}^n$. Then, there exists an orthonormal basis $q_1, q_2, \\dots, q_m$ for $\\text{span}(a_1, a_2, \\dots, a_m)$.\n",
        "\n",
        "#### Proof\n",
        "Start with the first vector $a1$. Normalize it to get $q_1$:\n",
        "\n",
        "$$ q_1 = \\frac{a_1}{\\|a_1\\|} $$\n",
        "\n",
        "This ensures $\\|q_1\\| = 1$.\n",
        "\n",
        "#### Inductive Step:\n",
        "Assume we have constructed orthonormal vectors $q_1, q_2, \\dots, q_{i-1}$ such that\n",
        "\n",
        "$$ U_{i-1} = \\text{span}(q_1, q_2, \\dots, q_{i-1}) = \\text{span}(a_1, a_2, \\dots, a_{i-1}) $$\n",
        "\n",
        "For the next vector $a_i$\n",
        "\n",
        "\n",
        "Compute its orthogonal projection onto $U_{i-1}$\n",
        "\n",
        "$$ P_{U_{i-1}} a_i = \\sum_{j=1}^{i-1} \\langle a_i, q_j \\rangle q_j $$\n",
        "\n",
        "Subtract the projection from $a_i$ to get a vector orthogonal to $U_{i-1}$\n",
        "\n",
        "$$ b_i = a_i - P_{U_{i-1}} a_i $$\n",
        "\n",
        "Normalize $b_i$ to get $q_i$\n",
        "\n",
        "$$ q_i = \\frac{b_i}{\\|b_i\\|} $$\n",
        "\n",
        "By induction, the process generates an orthonormal basis $q_1, q_2, \\dots, q_m$ for $\\text{span}(a_1, a_2, \\dots, a_m)$.\n",
        "\n",
        "Example:\n",
        "\n",
        "Let\n",
        "\n",
        "$$ a_1 = \\begin{bmatrix} 1 \\\\ 1 \\\\ 1 \\end{bmatrix}, \\quad a_2 = \\begin{bmatrix} 1 \\\\ 0 \\\\ 2 \\end{bmatrix} $$\n",
        "\n",
        "Apply the Gram-Schmidt process to find an orthonormal basis:\n"
      ],
      "metadata": {
        "id": "lhwhvSZtGtF7"
      }
    },
    {
      "cell_type": "code",
      "source": [
        "import numpy as np\n",
        "\n",
        "a1 = np.array([1, 1, 1])\n",
        "a2 = np.array([1, 0, 2])\n",
        "\n",
        "def gram_schmidt(vectors):\n",
        "    basis = []\n",
        "    for v in vectors:\n",
        "        w = v - sum(np.dot(v, b) * b for b in basis)\n",
        "        if np.linalg.norm(w) > 1e-10:\n",
        "            basis.append(w / np.linalg.norm(w))\n",
        "    return basis\n",
        "\n",
        "orthonormal_basis = gram_schmidt([a1, a2])\n",
        "print(\"Orthonormal Basis:\")\n",
        "for q in orthonormal_basis:\n",
        "    print(q)"
      ],
      "metadata": {
        "colab": {
          "base_uri": "https://localhost:8080/"
        },
        "id": "gvKcd63eJVyh",
        "outputId": "7c039bfc-2e8b-4750-cf60-41683825c897"
      },
      "execution_count": 1,
      "outputs": [
        {
          "output_type": "stream",
          "name": "stdout",
          "text": [
            "Orthonormal Basis:\n",
            "[0.57735027 0.57735027 0.57735027]\n",
            "[-1.57009246e-16 -7.07106781e-01  7.07106781e-01]\n"
          ]
        }
      ]
    },
    {
      "cell_type": "markdown",
      "source": [
        "### Eigenvalues and Eigenvectors\n",
        "\n",
        "Let $A \\in \\mathbb{R}^{d \\times d}$ be a square matrix. A scalar $\\lambda$ is called an eigenvalue of $A$ if there exists a nonzero vector $x \\neq 0$ such that\n",
        "\n",
        "$$ Ax = \\lambda x $$\n",
        "\n",
        "The vector $x$ is called an eigenvector corresponding to $\\lambda$.\n",
        "\n",
        "Example:\n",
        "\n",
        "Consider the matrix\n",
        "\n",
        "$$ A = \\begin{bmatrix} 2 & 0 \\\\ 0 & 3 \\end{bmatrix} $$\n",
        "\n",
        "Eigenvalues are $\\lambda_1 = 2$, $\\lambda_2 = 3$\n",
        "\n",
        "Eigenvectors are\n",
        "\n",
        "$$ x_1 = \\begin{bmatrix} 1 \\\\ 0 \\end{bmatrix}, \\quad x_2 = \\begin{bmatrix} 0 \\\\ 1 \\end{bmatrix} $$"
      ],
      "metadata": {
        "id": "ExnxrqV2JtGz"
      }
    },
    {
      "cell_type": "code",
      "source": [
        "A = np.array([[2, 0], [0, 3]])\n",
        "\n",
        "eigenvalues, eigenvectors = np.linalg.eig(A)\n",
        "\n",
        "print(\"Eigenvalues:\", eigenvalues)\n",
        "print(\"Eigenvectors:\")\n",
        "print(eigenvectors)"
      ],
      "metadata": {
        "colab": {
          "base_uri": "https://localhost:8080/"
        },
        "id": "ggM-r04PKEMV",
        "outputId": "3aab31b3-1653-4da4-87c4-7e352ab03c83"
      },
      "execution_count": 2,
      "outputs": [
        {
          "output_type": "stream",
          "name": "stdout",
          "text": [
            "Eigenvalues: [2. 3.]\n",
            "Eigenvectors:\n",
            "[[1. 0.]\n",
            " [0. 1.]]\n"
          ]
        }
      ]
    },
    {
      "cell_type": "markdown",
      "source": [
        "### Diagonalization of Symmetric Matrices\n",
        "A symmetric matrix $A$ can be diagonalized using its eigenvalues and eigenvectors. This is known as the Spectral Theorem.\n",
        "\n",
        "If $A$ is a symmetric matrix, then\n",
        "\n",
        "1. $A$ has $n$ real eigenvalues (counting multiplicities).\n",
        "2. Eigenvectors corresponding to distinct eigenvalues are orthogonal.\n",
        "3. $A$ is orthogonally diagonalizable, i.e., $A = PDP^T$, where $P$ is an orthogonal matrix and $D$ is a diagonal matrix of eigenvalues.\n",
        "\n",
        "Example:\n",
        "\n",
        "Let\n",
        "\n",
        "$$ A = \\begin{bmatrix} 4 & 1 \\\\ 1 & 4 \\end{bmatrix} $$\n",
        "\n",
        "Eigenvalues are $\\lambda_1 = 5$, $\\lambda_2 = 3$\n",
        "\n",
        "Eigenvectors are\n",
        "\n",
        "$$ v_1 = \\begin{bmatrix} 1 \\\\ 1 \\end{bmatrix}, \\quad v_2 = \\begin{bmatrix} -1 \\\\ 1 \\end{bmatrix} $$\n",
        "\n",
        "Diagonalization: $A = PDP^T$, where\n",
        "\n",
        "$$ P = \\begin{bmatrix} \\frac{1}{\\sqrt{2}} & -\\frac{1}{\\sqrt{2}} \\\\ \\frac{1}{\\sqrt{2}} & \\frac{1}{\\sqrt{2}} \\end{bmatrix}, \\quad D = \\begin{bmatrix} 5 & 0 \\\\ 0 & 3 \\end{bmatrix} $$"
      ],
      "metadata": {
        "id": "JgY-OsRjK4O8"
      }
    },
    {
      "cell_type": "code",
      "source": [
        "A = np.array([[4, 1], [1, 4]])\n",
        "\n",
        "eigenvalues, eigenvectors = np.linalg.eig(A)\n",
        "\n",
        "D = np.diag(eigenvalues)\n",
        "\n",
        "P = eigenvectors\n",
        "\n",
        "A_new = P @ D @ P.T\n",
        "print(\"Original Matrix A:\")\n",
        "print(A)\n",
        "print(\"New Matrix A:\")\n",
        "print(A_new)"
      ],
      "metadata": {
        "colab": {
          "base_uri": "https://localhost:8080/"
        },
        "id": "iX5ZkRB7Ky-m",
        "outputId": "4362015b-4745-4711-a03b-cf60d48876d1"
      },
      "execution_count": 4,
      "outputs": [
        {
          "output_type": "stream",
          "name": "stdout",
          "text": [
            "Original Matrix A:\n",
            "[[4 1]\n",
            " [1 4]]\n",
            "New Matrix A:\n",
            "[[4. 1.]\n",
            " [1. 4.]]\n"
          ]
        }
      ]
    },
    {
      "cell_type": "markdown",
      "source": [
        "### Constrained Optimization\n",
        "\n",
        "Let A be an n × n symmetric matrix with an orthogonal diagonalization A = PDP⁻¹.\n",
        "The columns of P are orthonormal eigenvectors v₁, ..., vₙ of A. Assume the diagonal\n",
        "entries of D are arranged such that λ₁ ≤ λ₂ ≤ ... ≤ λₙ. Then\n",
        "\n",
        "- The minimum value of the Rayleigh quotient (xᵀAx) / (xᵀx) is λ₁, achieved when x = v₁.\n",
        "- The maximum value of the Rayleigh quotient (xᵀAx) / (xᵀx) is λₙ, achieved when x = vₙ.\n",
        "\n",
        "#### Proof\n",
        "A is symmetric, so it can be diagonalized as\n",
        "\n",
        "  A = PDPᵀ\n",
        "\n",
        "where P = [v₁, ..., vₙ] is an orthogonal matrix and D = diag(λ₁, ..., λₙ).\n",
        "For any x ≠ 0, let y = Pᵀx. Then\n",
        "\n",
        "   (xᵀAx) / (xᵀx) = (yᵀDy) / (yᵀy) = (λ₁y₁² + ... + λₙyₙ²) / (y₁² + ... + yₙ²)\n",
        "\n",
        "Minimized when x = v₁ and maximized when x = vₙ.\n",
        "\n",
        "Here's an exmaple:\n",
        "\n",
        "Let $$ A = \\begin{bmatrix} 4 & 1 \\\\ 1 & 4 \\end{bmatrix} $$. Find the max and min values of the Rayleigh quotient"
      ],
      "metadata": {
        "id": "ZyCidRr0LNH_"
      }
    },
    {
      "cell_type": "code",
      "source": [
        "import numpy as np\n",
        "\n",
        "A = np.array([[4, 1], [1, 4]])\n",
        "\n",
        "eigenvalues, eigenvectors = np.linalg.eig(A)\n",
        "\n",
        "lambda_min = min(eigenvalues)\n",
        "lambda_max = max(eigenvalues)\n",
        "\n",
        "v_min = eigenvectors[:, np.argmin(eigenvalues)]\n",
        "v_max = eigenvectors[:, np.argmax(eigenvalues)]\n",
        "\n",
        "print(\"Minimum Eigenvalue (λ₁):\", lambda_min)\n",
        "print(\"Corresponding Eigenvector (v₁):\", v_min)\n",
        "print(\"Maximum Eigenvalue (λₙ):\", lambda_max)\n",
        "print(\"Corresponding Eigenvector (vₙ):\", v_max)"
      ],
      "metadata": {
        "colab": {
          "base_uri": "https://localhost:8080/"
        },
        "id": "EZkgrN_uLd9p",
        "outputId": "abc38ea8-ed66-4cfc-c387-2837dd877dc9"
      },
      "execution_count": 5,
      "outputs": [
        {
          "output_type": "stream",
          "name": "stdout",
          "text": [
            "Minimum Eigenvalue (λ₁): 3.0\n",
            "Corresponding Eigenvector (v₁): [-0.70710678  0.70710678]\n",
            "Maximum Eigenvalue (λₙ): 5.0\n",
            "Corresponding Eigenvector (vₙ): [0.70710678 0.70710678]\n"
          ]
        }
      ]
    },
    {
      "cell_type": "markdown",
      "source": [
        "### QR Decomposition\n",
        "\n",
        "QR decomposition is a factorization of a matrix A into an orthogonal matrix Q and an upper triangular matrix R.\n",
        "\n",
        "Let A be an n × m matrix with linearly independent columns. Then A can be decomposed as\n",
        "\n",
        "  A = QR\n",
        "\n",
        "where\n",
        "- Q is an n × m matrix with orthonormal columns.\n",
        "- R is an m × m upper triangular matrix.\n",
        "\n",
        "Let\n",
        "A = \\begin{bmatrix} 1 & 1 \\\\ 1 & 0 \\\\ 1 & 2 \\end{bmatrix}\n",
        "\n",
        "\n",
        "Here's the QR compositin:"
      ],
      "metadata": {
        "id": "J7iBg0T3Lj_W"
      }
    },
    {
      "cell_type": "code",
      "source": [
        "A = np.array([[1, 1], [1, 0], [1, 2]])\n",
        "Q, R = np.linalg.qr(A)\n",
        "\n",
        "print(\"Q:\")\n",
        "print(Q)\n",
        "print(\"R:\")\n",
        "print(R)"
      ],
      "metadata": {
        "colab": {
          "base_uri": "https://localhost:8080/"
        },
        "id": "dYLTc2GkLpIb",
        "outputId": "a429f894-b020-4250-e2ea-9c930fa7b4d4"
      },
      "execution_count": 6,
      "outputs": [
        {
          "output_type": "stream",
          "name": "stdout",
          "text": [
            "Q:\n",
            "[[-5.77350269e-01 -9.33980149e-17]\n",
            " [-5.77350269e-01 -7.07106781e-01]\n",
            " [-5.77350269e-01  7.07106781e-01]]\n",
            "R:\n",
            "[[-1.73205081 -1.73205081]\n",
            " [ 0.          1.41421356]]\n"
          ]
        }
      ]
    },
    {
      "cell_type": "markdown",
      "source": [
        "The least-squares involves finding x that minimizes ∥Ax−b∥, where A is an n×m matrix and b is a vector.\n",
        "\n",
        "The least-squares solution to Ax = b satisfies\n",
        "\n",
        "  AᵀAx = Aᵀb\n",
        "\n",
        "Here's an example of Least-Sqaures:\n",
        "\n",
        "Let\n",
        "A = \\begin{bmatrix} 1 & 1 \\\\ 1 & 0 \\\\ 1 & 2 \\end{bmatrix} and\n",
        "\n",
        "B = \\begin{bmatrix} 2 \\\\ 1 \\\\ 3 \\end{bmatrix}"
      ],
      "metadata": {
        "id": "SLCm1ODhLtjB"
      }
    },
    {
      "cell_type": "code",
      "source": [
        "from sklearn.linear_model import LinearRegression\n",
        "\n",
        "A = np.array([[1, 1], [1, 0], [1, 2]])\n",
        "b = np.array([2, 1, 3])\n",
        "\n",
        "x, residuals, rank, s = np.linalg.lstsq(A, b, rcond=None)\n",
        "\n",
        "print(\"Least-Squares Solution (x):\", x)"
      ],
      "metadata": {
        "colab": {
          "base_uri": "https://localhost:8080/"
        },
        "id": "NCv8IRQXLzGN",
        "outputId": "dacec29c-33a1-498e-8bc1-088b25926cfb"
      },
      "execution_count": 8,
      "outputs": [
        {
          "output_type": "stream",
          "name": "stdout",
          "text": [
            "Least-Squares Solution (x): [1. 1.]\n"
          ]
        }
      ]
    },
    {
      "cell_type": "markdown",
      "source": [
        "### Linear Regression\n",
        "\n",
        "Linear regression is a statistical method for modeling the relationship between a dependent variable and one or more independent variables.\n",
        "\n",
        "Given data points {(xᵢ, yᵢ)}, the goal is to find coefficients β₀, β₁, ..., βd that minimize:\n",
        "\n",
        "  ∑ (yᵢ - ŷᵢ)², where ŷᵢ = β₀ + ∑ βⱼxᵢⱼ\n",
        "\n",
        "Let's try to fit a linear model to this data:\n",
        "\n",
        "x = \\begin{bmatrix} 1 \\\\ 2 \\\\ 3 \\end{bmatrix}\n",
        "\n",
        "y = \\begin{bmatrix} 2 \\\\ 4 \\\\ 6 \\end{bmatrix}"
      ],
      "metadata": {
        "id": "CaZr1MPJMCJS"
      }
    },
    {
      "cell_type": "code",
      "source": [
        "import numpy as np\n",
        "import matplotlib.pyplot as plt\n",
        "from sklearn.linear_model import LinearRegression\n",
        "\n",
        "X = np.array([[1], [2], [3]])\n",
        "y = np.array([2, 4, 6])\n",
        "\n",
        "model = LinearRegression()\n",
        "model.fit(X, y)\n",
        "\n",
        "y_pred = model.predict(X)\n",
        "print(\"Predictions:\", y_pred)"
      ],
      "metadata": {
        "colab": {
          "base_uri": "https://localhost:8080/"
        },
        "id": "W4OYwbJ-MH4m",
        "outputId": "552de054-4c88-4540-ab46-bffc355461ef"
      },
      "execution_count": 11,
      "outputs": [
        {
          "output_type": "stream",
          "name": "stdout",
          "text": [
            "Predictions: [2. 4. 6.]\n"
          ]
        }
      ]
    },
    {
      "cell_type": "code",
      "source": [
        "plt.scatter(X, y, color='blue', label='Data Points')\n",
        "\n",
        "plt.plot(X, y_pred, color='red', label='Regression Line')\n",
        "\n",
        "plt.xlabel('X')\n",
        "plt.ylabel('y')\n",
        "plt.title('Linear Regression')\n",
        "plt.legend()\n",
        "\n",
        "plt.show()"
      ],
      "metadata": {
        "colab": {
          "base_uri": "https://localhost:8080/",
          "height": 472
        },
        "id": "pi4RC4MyTC9C",
        "outputId": "19b34b99-6952-44af-e943-9c0709ed04cf"
      },
      "execution_count": 12,
      "outputs": [
        {
          "output_type": "display_data",
          "data": {
            "text/plain": [
              "<Figure size 640x480 with 1 Axes>"
            ],
            "image/png": "[encoded data removed]"
          },
          "metadata": {}
        }
      ]
    },
    {
      "cell_type": "markdown",
      "source": [
        "###**Principal Component Analysis**\n",
        "\n",
        "PCA is a dimensionality reduction technique that projects data onto the directions of maximum variance.\n",
        "\n",
        "Let A be an $m$ x $n$ matrix. The SVD of A is\n",
        "\n",
        "A =\n",
        "\n",
        "where\n",
        "\n",
        "- $U$ is an $m$ x $m$ orthogonal matrix\n",
        "- $∑$ is an $m$ x $n$ diagonal matrix of singular values\n",
        "- $V$ is an $n$ x $n$ orthogonal matrix\n",
        "\n",
        "Example:\n",
        "\n",
        "Let A = \\begin{bmatrix} 1 & 2 \\\\ 3 & 4 \\\\ 5 & 6 \\end{bmatrix}\n",
        "\n",
        "We can compute the SVD"
      ],
      "metadata": {
        "id": "dZFBZ8nBTDKk"
      }
    },
    {
      "cell_type": "code",
      "source": [
        "A = np.array([[1, 2], [3, 4], [5, 6]])\n",
        "\n",
        "U, S, VT = np.linalg.svd(A)\n",
        "\n",
        "print(\"U:\")\n",
        "print(U)\n",
        "print(\"Singular Values (Σ):\", S)\n",
        "print(\"VT:\")\n",
        "print(VT)"
      ],
      "metadata": {
        "colab": {
          "base_uri": "https://localhost:8080/"
        },
        "id": "99xIakmcUMNi",
        "outputId": "27e310d4-6aa1-4b9f-cc95-2a515dde1167"
      },
      "execution_count": 10,
      "outputs": [
        {
          "output_type": "stream",
          "name": "stdout",
          "text": [
            "U:\n",
            "[[-0.2298477   0.88346102  0.40824829]\n",
            " [-0.52474482  0.24078249 -0.81649658]\n",
            " [-0.81964194 -0.40189603  0.40824829]]\n",
            "Singular Values (Σ): [9.52551809 0.51430058]\n",
            "VT:\n",
            "[[-0.61962948 -0.78489445]\n",
            " [-0.78489445  0.61962948]]\n"
          ]
        }
      ]
    }
  ]
}