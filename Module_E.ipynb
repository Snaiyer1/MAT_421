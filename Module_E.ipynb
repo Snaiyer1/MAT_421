{
  "nbformat": 4,
  "nbformat_minor": 0,
  "metadata": {
    "colab": {
      "provenance": [],
      "authorship_tag": "ABX9TyPLOF/cVGfdOCcUEH5mCzFl",
      "include_colab_link": true
    },
    "kernelspec": {
      "name": "python3",
      "display_name": "Python 3"
    },
    "language_info": {
      "name": "python"
    }
  },
  "cells": [
    {
      "cell_type": "markdown",
      "metadata": {
        "id": "view-in-github",
        "colab_type": "text"
      },
      "source": [
        "<a href=\"https://colab.research.google.com/github/Snaiyer1/MAT_421/blob/main/Module_E.ipynb\" target=\"_parent\"><img src=\"https://colab.research.google.com/assets/colab-badge.svg\" alt=\"Open In Colab\"/></a>"
      ]
    },
    {
      "cell_type": "markdown",
      "source": [
        "### Derivatives\n",
        "\n",
        "#### Single-Variable Derivatives\n",
        "\n",
        "For a function $( f: D \\to \\mathbb{R} )$ (with $( D \\subseteq \\mathbb{R} )$) and an interior point $( x_0 \\in D $), the derivative of $( f )$ at $( x_0 )$ is defined as:\n",
        "$\n",
        "f'(x_0) = \\lim_{h \\to 0} \\frac{f(x_0+h) - f(x_0)}{h},\n",
        "$\n",
        "provided the limit exists.\n",
        "\n",
        "- The derivative measures the sensitivity of the function value to small changes in \\( x \\).\n",
        "- It can be interpreted as the slope of the tangent line to the curve at $( x_0)$.\n",
        "\n",
        "For functions $( f )$ and $( g )$ that are differentiable at $( x )$ and for constants $( \\alpha, \\beta )$, we have:\n",
        "$\n",
        "\\alpha f(x) + \\beta g(x)]' = \\alpha f'(x) + \\beta g'(x).\n",
        "$\n",
        "\n",
        "Example:\n",
        "Let $( f(x) = x^2 + 3x + 2 )$. We compute its derivative and plot the function along with the tangent line at a chosen point $( x_0 )$. For instance, when $( x_0 = -1 )$, we plot $( f(x) )$ and its tangent line at that point.\n"
      ],
      "metadata": {
        "id": "SaQLeZVUVIPw"
      }
    },
    {
      "cell_type": "code",
      "source": [
        "import numpy as np\n",
        "import sympy as sp\n",
        "import matplotlib.pyplot as plt\n",
        "\n",
        "x = sp.symbols('x')\n",
        "\n",
        "f = x**2 + 3*x + 2\n",
        "f_prime = sp.diff(f, x)\n",
        "\n",
        "print(\"Single-Variable Example:\")\n",
        "print(\"Function f(x):\", f)\n",
        "print(\"Derivative f'(x):\", f_prime)"
      ],
      "metadata": {
        "colab": {
          "base_uri": "https://localhost:8080/"
        },
        "id": "mG7uPx-DUuRS",
        "outputId": "838bbebf-622f-45f1-81f4-da0a03df541d"
      },
      "execution_count": 1,
      "outputs": [
        {
          "output_type": "stream",
          "name": "stdout",
          "text": [
            "Single-Variable Example:\n",
            "Function f(x): x**2 + 3*x + 2\n",
            "Derivative f'(x): 2*x + 3\n"
          ]
        }
      ]
    },
    {
      "cell_type": "markdown",
      "source": [
        "#### Multivariable Derivatives\n",
        "\n",
        "For a function $f: D \\subseteq \\mathbb{R}^d \\to \\mathbb{R}$ and an interior point $x_0$, the partial derivative with respect to $x_i$ is:\n",
        "$$\n",
        "\\frac{\\partial f(x_0)}{\\partial x_i} = \\lim_{h \\to 0} \\frac{f(x_0 + h\\, e_i) - f(x_0)}{h},\n",
        "$$\n",
        "where $e_i$ is the $i$-th standard basis vector.\n",
        "\n",
        "For a vector-valued function $f = (f_1, \\dots, f_m): D \\to \\mathbb{R}^m$, the Jacobian at $x_0$ is the matrix of all first-order partial derivatives. For a scalar-valued function, the Jacobian reduces to the row vector of partial derivatives (i.e. the gradient).\n",
        "\n",
        "Consider the function:\n",
        "$$\n",
        "h(x_1, x_2) = x_1^2 + 3x_1x_2 + x_2^2.\n",
        "$$\n",
        "\n",
        "We compute its partial derivatives and the Hessian matrix."
      ],
      "metadata": {
        "id": "NYTW8bsoVamw"
      }
    },
    {
      "cell_type": "code",
      "source": [
        "x1, x2 = sp.symbols('x1 x2')\n",
        "h_expr = x1**2 + 3*x1*x2 + x2**2\n",
        "\n",
        "h_x1 = sp.diff(h_expr, x1)\n",
        "h_x2 = sp.diff(h_expr, x2)\n",
        "\n",
        "print(\"Partial Derivatives for h(x1, x2):\")\n",
        "print(\"∂h/∂x1:\", h_x1)\n",
        "print(\"∂h/∂x2:\", h_x2)\n",
        "\n",
        "hessian_matrix = sp.hessian(h_expr, (x1, x2))\n",
        "print(\"\\nHessian Matrix for h(x1, x2):\")\n",
        "sp.pprint(hessian_matrix)"
      ],
      "metadata": {
        "colab": {
          "base_uri": "https://localhost:8080/"
        },
        "id": "RCYQt75jVVWo",
        "outputId": "c179c344-807a-4790-9358-3b9b3d94caee"
      },
      "execution_count": 2,
      "outputs": [
        {
          "output_type": "stream",
          "name": "stdout",
          "text": [
            "Partial Derivatives for h(x1, x2):\n",
            "∂h/∂x1: 2*x1 + 3*x2\n",
            "∂h/∂x2: 3*x1 + 2*x2\n",
            "\n",
            "Hessian Matrix for h(x1, x2):\n",
            "⎡2  3⎤\n",
            "⎢    ⎥\n",
            "⎣3  2⎦\n"
          ]
        }
      ]
    },
    {
      "cell_type": "markdown",
      "source": [],
      "metadata": {
        "id": "QRqu_mK3VfUc"
      }
    },
    {
      "cell_type": "markdown",
      "source": [
        "#### Chain Rule and Directional Derivatives\n",
        "\n",
        "For composite functions $h(x) = g(f(x))$, the derivative is given by:\n",
        "$$\n",
        "J_{g\\circ f}(x_0) = J_g(f(x_0)) \\, J_f(x_0).\n",
        "$$\n",
        "\n",
        "For a differentiable function $f$, the directional derivative at $x_0$ in the direction $v$ (a unit vector) is:\n",
        "$$\n",
        "\\frac{\\partial f(x_0)}{\\partial v} = \\lim_{h \\to 0} \\frac{f(x_0 + hv) - f(x_0)}{h} = \\nabla f(x_0)^T v.\n",
        "$$\n",
        "\n",
        "Below is an example for the function $h(x_1,x_2)$ at the point $(1,1)$ in the direction\n",
        "$$\n",
        "v = \\left(\\frac{1}{\\sqrt{2}},\\frac{1}{\\sqrt{2}}\\right).\n",
        "$$"
      ],
      "metadata": {
        "id": "24koYsolVj9l"
      }
    },
    {
      "cell_type": "code",
      "source": [
        "# Evaluate the gradient of h_expr\n",
        "grad_h = sp.Matrix([sp.diff(h_expr, x1), sp.diff(h_expr, x2)])\n",
        "point = (1, 1)\n",
        "grad_h_at_point = grad_h.subs({x1: point[0], x2: point[1]})\n",
        "\n",
        "# Define the unit direction vector v = (1/sqrt(2), 1/sqrt(2))\n",
        "v = np.array([1/np.sqrt(2), 1/np.sqrt(2)])\n",
        "directional_derivative = grad_h_at_point.dot(sp.Matrix(v))\n",
        "\n",
        "print(\"Gradient of h at (1,1):\")\n",
        "sp.pprint(grad_h_at_point)\n",
        "print(\"\\nDirectional derivative of h at (1,1) in direction (1/√2, 1/√2):\")\n",
        "sp.pprint(directional_derivative)"
      ],
      "metadata": {
        "colab": {
          "base_uri": "https://localhost:8080/"
        },
        "id": "M_u6l2ciWS5_",
        "outputId": "48bf54cb-aca5-43da-9916-c0a3f5914aa5"
      },
      "execution_count": 5,
      "outputs": [
        {
          "output_type": "stream",
          "name": "stdout",
          "text": [
            "Gradient of h at (1,1):\n",
            "⎡5⎤\n",
            "⎢ ⎥\n",
            "⎣5⎦\n",
            "\n",
            "Directional derivative of h at (1,1) in direction (1/√2, 1/√2):\n",
            "7.07106781186547\n"
          ]
        }
      ]
    },
    {
      "cell_type": "markdown",
      "source": [
        "#### Taylor’s Theorem\n",
        "\n",
        "If $f$ has $m$ continuous derivatives on $[a, b]$, then\n",
        "$$\n",
        "f(b) = f(a) + (b-a) f'(a) + \\frac{(b-a)^2}{2} f''(a) + \\dots + \\frac{(b-a)^{m-1}}{(m-1)!} f^{(m-1)}(a) + R_m,\n",
        "$$\n",
        "with a remainder term\n",
        "$$\n",
        "R_m = \\frac{(b-a)^m}{m!} f^{(m)}\\Big(a+\\theta(b-a)\\Big) \\quad \\text{for some } \\theta \\in (0,1).\n",
        "$$\n",
        "\n",
        "For $f: \\mathbb{R}^d \\to \\mathbb{R}$ that is twice continuously differentiable, the second-order Taylor expansion about $x_0$ is:\n",
        "$$\n",
        "f(x) \\approx f(x_0) + \\nabla f(x_0)^T (x - x_0) + \\frac{1}{2}(x - x_0)^T H_f(x_0) (x - x_0),\n",
        "$$\n",
        "where $H_f(x_0)$ is the Hessian matrix.\n",
        "\n",
        "For the function $f(x)=x^2+3x+2$, we can compute the Taylor series expansion about $x=0$ up to the second order.\n"
      ],
      "metadata": {
        "id": "qijPhabbWXcI"
      }
    },
    {
      "cell_type": "code",
      "source": [
        "taylor_expansion = sp.series(f, x, 0, 3)\n",
        "print(\"Taylor Expansion of f(x) around x=0:\")\n",
        "sp.pprint(taylor_expansion)"
      ],
      "metadata": {
        "colab": {
          "base_uri": "https://localhost:8080/"
        },
        "id": "5Y8M5rd0Wfs3",
        "outputId": "cc8010a4-2cb5-4ecb-a58f-af7f3a191948"
      },
      "execution_count": 7,
      "outputs": [
        {
          "output_type": "stream",
          "name": "stdout",
          "text": [
            "Taylor Expansion of f(x) around x=0:\n",
            " 2          \n",
            "x  + 3⋅x + 2\n"
          ]
        }
      ]
    },
    {
      "cell_type": "code",
      "source": [
        "x0 = -1\n",
        "tangent_slope = f_prime.subs(x, x0)\n",
        "tangent_line = tangent_slope * (x - x0) + f.subs(x, x0)\n",
        "\n",
        "x_vals = np.linspace(-3, 3, 100)\n",
        "f_lambdified = sp.lambdify(x, f, 'numpy')\n",
        "tangent_lambdified = sp.lambdify(x, tangent_line, 'numpy')\n",
        "\n",
        "plt.figure(figsize=(8, 5))\n",
        "plt.plot(x_vals, f_lambdified(x_vals), label='f(x)')\n",
        "plt.plot(x_vals, tangent_lambdified(x_vals), linestyle='dashed', label='Tangent at x = -1')\n",
        "plt.scatter([x0], [f.subs(x, x0)], color='red')\n",
        "plt.title(\"Function f(x) and Tangent Line at x = -1\")\n",
        "plt.xlabel(\"x\")\n",
        "plt.ylabel(\"f(x)\")\n",
        "plt.legend()\n",
        "plt.show()"
      ],
      "metadata": {
        "colab": {
          "base_uri": "https://localhost:8080/",
          "height": 487
        },
        "id": "3ifnGknvVpq_",
        "outputId": "4108d7df-8b5b-4f99-d6c3-56751b660674"
      },
      "execution_count": 3,
      "outputs": [
        {
          "output_type": "display_data",
          "data": {
            "text/plain": [
              "<Figure size 800x500 with 1 Axes>"
            ],
            "image/png": "[encoded data removed]"
          },
          "metadata": {}
        }
      ]
    },
    {
      "cell_type": "markdown",
      "source": [
        "#### Unconstrained Optimization\n",
        "\n",
        "**Local Minimizer:**  \n",
        "A point $x^*$ is a local minimizer if there exists $\\delta > 0$ such that:\n",
        "$$\n",
        "f(x) \\geq f(x^*) \\quad \\forall x \\in B_\\delta(x^*).\n",
        "$$\n",
        "\n",
        "- **First-Order Necessary Condition:**  \n",
        "  If $x^*$ is a local minimizer and $f$ is continuously differentiable, then\n",
        "  $$\n",
        "  \\nabla f(x^*) = 0.\n",
        "  $$\n",
        "\n",
        "- **Second-Order Necessary Condition:**  \n",
        "  If $f$ is twice differentiable and $x^*$ is a local minimizer, then the Hessian $H_f(x^*)$ is positive semi-definite.\n",
        "\n",
        "For $f(x) = x^3$, we have $f'(0)=0$ and $f''(0)=0$, yet $x=0$ is not a minimizer.\n",
        "\n",
        "A function $f: \\mathbb{R}^d \\to \\mathbb{R}$ is convex if for any $x, y$ and $\\alpha \\in [0,1]$:\n",
        "$$\n",
        "f((1-\\alpha)x + \\alpha y) \\leq (1-\\alpha)f(x) + \\alpha f(y).\n",
        "$$\n",
        "\n",
        "For convex functions:\n",
        "- The first-order condition $f(y) \\geq f(x) + \\nabla f(x)^T (y-x)$ holds.\n",
        "- Any local minimizer is automatically a global minimizer.\n",
        "\n",
        "Example:\n",
        "$f(x) = x^3$."
      ],
      "metadata": {
        "id": "99JdVPPpVtPO"
      }
    },
    {
      "cell_type": "code",
      "source": [
        "f_counter = x**3\n",
        "f_counter_prime = sp.diff(f_counter, x)\n",
        "f_counter_double = sp.diff(f_counter_prime, x)\n",
        "print(\"For f(x) = x^3:\")\n",
        "print(\"f'(0) =\", f_counter_prime.subs(x, 0))\n",
        "print(\"f''(0) =\", f_counter_double.subs(x, 0))\n",
        "print(\"Note: Even though f'(0) = 0 and f''(0) = 0, x = 0 is not a local minimizer.\")"
      ],
      "metadata": {
        "colab": {
          "base_uri": "https://localhost:8080/"
        },
        "id": "mp2YP4R_W4NP",
        "outputId": "50c0c7ca-dcea-4d0b-d447-cfaaa75b46bd"
      },
      "execution_count": 8,
      "outputs": [
        {
          "output_type": "stream",
          "name": "stdout",
          "text": [
            "For f(x) = x^3:\n",
            "f'(0) = 0\n",
            "f''(0) = 0\n",
            "Note: Even though f'(0) = 0 and f''(0) = 0, x = 0 is not a local minimizer.\n"
          ]
        }
      ]
    },
    {
      "cell_type": "markdown",
      "source": [
        "\n",
        "#### Mean Value Theorem and Rolle's Theorem\n",
        "\n",
        "**Rolle’s Theorem:**  \n",
        "If $f$ is continuous on $[a,b]$, differentiable on $(a,b)$, and $f(a)=f(b)$, then there exists $c \\in (a,b)$ such that:\n",
        "$$\n",
        "f'(c)=0.\n",
        "$$\n",
        "\n",
        "**Mean Value Theorem (MVT):**  \n",
        "If $f$ is continuous on $[a,b]$ and differentiable on $(a,b)$, then there exists $c \\in (a,b)$ such that:\n",
        "$$\n",
        "f(b) - f(a) = (b-a) f'(c).\n",
        "$$\n",
        "\n",
        "Here is an example using the function $g(x) = x^3 - 3x + 2$ over the interval $[-2, 2]$."
      ],
      "metadata": {
        "id": "cp3DUzZ_V0G7"
      }
    },
    {
      "cell_type": "code",
      "source": [
        "# %% [code]\n",
        "# Define function g(x) for the MVT example\n",
        "g = x**3 - 3*x + 2\n",
        "g_prime = sp.diff(g, x)\n",
        "a_val, b_val = -2, 2\n",
        "mvt_slope = (g.subs(x, b_val) - g.subs(x, a_val)) / (b_val - a_val)\n",
        "c_candidates = sp.solve(g_prime - mvt_slope, x)\n",
        "\n",
        "print(\"Mean Value Theorem Example:\")\n",
        "print(\"MVT slope (g(b)-g(a))/(b-a):\", mvt_slope)\n",
        "print(\"Candidate c values where g'(c) equals the MVT slope:\", c_candidates)"
      ],
      "metadata": {
        "colab": {
          "base_uri": "https://localhost:8080/"
        },
        "id": "7-Bq6NNgV0-H",
        "outputId": "ab219bd8-6a5f-4f47-cc8c-33b98a7add5f"
      },
      "execution_count": 4,
      "outputs": [
        {
          "output_type": "stream",
          "name": "stdout",
          "text": [
            "Mean Value Theorem Example:\n",
            "MVT slope (g(b)-g(a))/(b-a): 1\n",
            "Candidate c values where g'(c) equals the MVT slope: [-2*sqrt(3)/3, 2*sqrt(3)/3]\n"
          ]
        }
      ]
    },
    {
      "cell_type": "markdown",
      "source": [
        "#### Gradient Descent\n",
        "\n",
        "Gradient descent is an iterative optimization method where we update the variable in the direction of the negative gradient.\n",
        "\n",
        "1. Initialize $x_0$.\n",
        "2. Repeat:\n",
        "   $$\n",
        "   x_{k+1} = x_k - \\alpha_k \\nabla f(x_k)\n",
        "   $$\n",
        "   until convergence.\n",
        "3. The step size $\\alpha_k$ can be chosen via a line search or fixed heuristics.\n",
        "4. The negative gradient $-\\nabla f(x_k)$ is the steepest descent direction.\n",
        "\n",
        "Gradient descent iteratively updates the point $x$ in the direction of the negative gradient:\n",
        "$$\n",
        "x_{k+1} = x_k - \\alpha_k \\nabla f(x_k)\n",
        "$$\n",
        "where $\\alpha_k$ is the step size.\n",
        "\n",
        "Let's look at the function $f(x)=x^2+3x+2$."
      ],
      "metadata": {
        "id": "83oqMrwTXFCZ"
      }
    },
    {
      "cell_type": "code",
      "execution_count": 9,
      "metadata": {
        "colab": {
          "base_uri": "https://localhost:8080/",
          "height": 678
        },
        "id": "UePgw2u1Tr_4",
        "outputId": "a8f21c5a-1131-4fe3-9cfe-4b74c85b5b82"
      },
      "outputs": [
        {
          "output_type": "stream",
          "name": "stdout",
          "text": [
            "Gradient Descent on f(x) = x^2 + 3x + 2:\n",
            "Step 1: x = 1.2999999999999998, f(x) = 7.59000000000000\n",
            "Step 2: x = 0.7399999999999999, f(x) = 4.76760000000000\n",
            "Step 3: x = 0.2919999999999999, f(x) = 2.96126400000000\n",
            "Step 4: x = -0.06640000000000007, f(x) = 1.80520896000000\n",
            "Step 5: x = -0.3531200000000001, f(x) = 1.06533373440000\n",
            "Step 6: x = -0.5824960000000001, f(x) = 0.591813590016000\n",
            "Step 7: x = -0.7659968000000001, f(x) = 0.288760697610240\n",
            "Step 8: x = -0.9127974400000001, f(x) = 0.0948068464705538\n",
            "Step 9: x = -1.030237952, f(x) = -0.0293236182588457\n",
            "Step 10: x = -1.1241903616, f(x) = -0.108767115685661\n"
          ]
        },
        {
          "output_type": "display_data",
          "data": {
            "text/plain": [
              "<Figure size 800x500 with 1 Axes>"
            ],
            "image/png": "[encoded data removed]"
          },
          "metadata": {}
        }
      ],
      "source": [
        "def gradient_descent(f_expr, var, initial=2, lr=0.1, steps=10):\n",
        "    grad_expr = sp.diff(f_expr, var)\n",
        "    x_val = initial\n",
        "    trajectory = [x_val]\n",
        "    for i in range(steps):\n",
        "        grad_val = float(grad_expr.subs(var, x_val))\n",
        "        x_val = x_val - lr * grad_val\n",
        "        trajectory.append(x_val)\n",
        "        print(f\"Step {i+1}: x = {x_val}, f(x) = {f_expr.subs(var, x_val)}\")\n",
        "    return trajectory\n",
        "\n",
        "print(\"Gradient Descent on f(x) = x^2 + 3x + 2:\")\n",
        "trajectory = gradient_descent(f, x, initial=2, lr=0.1, steps=10)\n",
        "\n",
        "# Plot the descent trajectory\n",
        "x_vals_plot = np.linspace(-5, 5, 400)\n",
        "f_func = sp.lambdify(x, f, 'numpy')\n",
        "plt.figure(figsize=(8, 5))\n",
        "plt.plot(x_vals_plot, f_func(x_vals_plot), label=\"f(x)\")\n",
        "plt.scatter(trajectory, [f.subs(x, t) for t in trajectory], color='red', label=\"Descent Points\")\n",
        "plt.title(\"Gradient Descent on f(x) = x^2 + 3x + 2\")\n",
        "plt.xlabel(\"x\")\n",
        "plt.ylabel(\"f(x)\")\n",
        "plt.legend()\n",
        "plt.show()"
      ]
    }
  ]
}